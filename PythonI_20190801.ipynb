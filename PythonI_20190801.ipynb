{
 "cells": [
  {
   "cell_type": "markdown",
   "metadata": {},
   "source": [
    "## Python基礎課程and常用套件與分析\n",
    "\n",
    "主要課題/Course Outline：\n",
    "\n",
    "1.Python介紹以及Jupyter開發環境架設  \n",
    "\n",
    "2.Python 基本資料型態 --整數. 浮點數. 字串...等 \n",
    "\n",
    "3.變數,運算符,條件控制,循環控制 解說與練習\n",
    "\n",
    "4.Python 資料結構-字串、列表、串列、集合、字典 解說與練習\n",
    "\n",
    "5.Pytohn函數(function)和模組(modules)解說與練習 \n",
    "\n",
    "6.Python日期與時間處理 解說與練習 \n",
    "\n",
    "-----\n",
    "\n",
    "7.輸入與輸出(input and output)應用練習 \n",
    "\n",
    "8.Python OS文件/目錄方法 \n",
    "\n",
    "9.Python檔案處理-檔案讀取與編寫、文件檔案編寫 、XML檔案編寫與讀取 \n",
    "\n",
    "10.錯誤與例外處理(errors and exception)觀念簡介、練習 \n",
    "\n",
    "11.物件與類別(objects and classes)觀念介紹、練習 \n",
    "\n",
    "12.Python執行緒--執行緒概念、使用多執行緒模組"
   ]
  },
  {
   "cell_type": "markdown",
   "metadata": {},
   "source": [
    "## 01. Python Introduction"
   ]
  },
  {
   "cell_type": "markdown",
   "metadata": {},
   "source": [
    "* 是一種廣泛使用的直譯式、進階編程、通用型程式語言\n",
    "* https://www.python.org"
   ]
  },
  {
   "cell_type": "markdown",
   "metadata": {},
   "source": [
    "### Jupyter Notebook"
   ]
  },
  {
   "cell_type": "markdown",
   "metadata": {},
   "source": [
    "https://jupyter.org/"
   ]
  },
  {
   "cell_type": "markdown",
   "metadata": {},
   "source": [
    "### 1.1 基本概念"
   ]
  },
  {
   "cell_type": "markdown",
   "metadata": {},
   "source": [
    "* Python中，萬物皆為對象(Object)\n",
    "* 每個對象包含3種屬性 : id (位址) / type (類型) / value (數值)\n",
    "* python 原始碼文件預設編碼 : UTF-8\n",
    "* 字符串皆為 unicode 字符串"
   ]
  },
  {
   "cell_type": "code",
   "execution_count": 53,
   "metadata": {},
   "outputs": [],
   "source": [
    "#指定不同編碼\n",
    "# -*- coding: cp-1252 -*-\n",
    "# -*- coding: UTF-8 -*-\n",
    "#coding=utf-8"
   ]
  },
  {
   "cell_type": "markdown",
   "metadata": {},
   "source": [
    "### 1.2 註解"
   ]
  },
  {
   "cell_type": "markdown",
   "metadata": {},
   "source": [
    "* 單行註解以 # 開頭\n",
    "* 多行註解以''' 或 \"\"\" 開頭及結尾"
   ]
  },
  {
   "cell_type": "code",
   "execution_count": 55,
   "metadata": {},
   "outputs": [
    {
     "name": "stdout",
     "output_type": "stream",
     "text": [
      "Hello world\n"
     ]
    },
    {
     "data": {
      "text/plain": [
       "'\\na=a+b\\n我是註解 1\\n我是註解 2\\n#print(\"Hello Nick\")\\n'"
      ]
     },
     "execution_count": 55,
     "metadata": {},
     "output_type": "execute_result"
    }
   ],
   "source": [
    "#我是註解 \n",
    "print(\"Hello world\")\n",
    "\n",
    "a = 1\n",
    "b = 2\n",
    "\n",
    "'''\n",
    "print(a+b)\n",
    "'''\n",
    "\"\"\"\n",
    "a=a+b\n",
    "我是註解 1\n",
    "我是註解 2\n",
    "#print(\"Hello Nick\")\n",
    "\"\"\""
   ]
  },
  {
   "cell_type": "markdown",
   "metadata": {},
   "source": [
    "###  1.3. 行與縮排"
   ]
  },
  {
   "cell_type": "markdown",
   "metadata": {},
   "source": [
    "* 以\"縮排\" 取代 \"{ }\", 作為程式碼區域\n",
    "* 區域內縮排不一致,將導致運行錯誤"
   ]
  },
  {
   "cell_type": "code",
   "execution_count": 57,
   "metadata": {},
   "outputs": [
    {
     "name": "stdout",
     "output_type": "stream",
     "text": [
      "True\n",
      "Apple\n"
     ]
    }
   ],
   "source": [
    "if True:\n",
    "    print (\"True\")\n",
    "    print (\"Apple\")\n",
    "else:\n",
    "    print (\"False\")\n",
    "    print (\"Cat\")"
   ]
  },
  {
   "cell_type": "markdown",
   "metadata": {},
   "source": [
    "### 1.4.  比較運算符號"
   ]
  },
  {
   "cell_type": "markdown",
   "metadata": {},
   "source": [
    "運算符號 | 說明 \n",
    "------|------ \n",
    "== | 等於 \n",
    "!= | 不等於 \n",
    "> | 大於\n",
    "< | 小於\n",
    ">= | 大於等於\n",
    "<= | 小於等於"
   ]
  },
  {
   "cell_type": "markdown",
   "metadata": {},
   "source": [
    "### 1.6.  賦值運算符號"
   ]
  },
  {
   "cell_type": "markdown",
   "metadata": {},
   "source": [
    "運算符號 | 說明 \n",
    "------|------ \n",
    "= | a = b + c\n",
    "+= | a = a + b\n",
    "-= | a = a - b\n",
    "*= | a = a * b\n",
    "/= | a = a / b\n",
    "%= | a = a % b\n",
    "**= | a = a ** b\n",
    "//= | a = a // b"
   ]
  },
  {
   "cell_type": "markdown",
   "metadata": {},
   "source": [
    "### 1.7.  身份(id) 運算符號 "
   ]
  },
  {
   "cell_type": "markdown",
   "metadata": {},
   "source": [
    "* is  \n",
    "* is not"
   ]
  },
  {
   "cell_type": "code",
   "execution_count": 60,
   "metadata": {},
   "outputs": [
    {
     "name": "stdout",
     "output_type": "stream",
     "text": [
      "True\n",
      "1705792896\n",
      "1705792896\n",
      "False\n"
     ]
    }
   ],
   "source": [
    "a = 20\n",
    "b = 20\n",
    "\n",
    "print(a is b)\n",
    "print(id(a)) #id()取得 變數位址\n",
    "print(id(b))\n",
    "\n",
    "print(a is not b)\n"
   ]
  },
  {
   "cell_type": "code",
   "execution_count": 61,
   "metadata": {},
   "outputs": [
    {
     "name": "stdout",
     "output_type": "stream",
     "text": [
      "False\n",
      "2145251901136\n",
      "2145251901232\n",
      "True\n"
     ]
    }
   ],
   "source": [
    "# 在python 互動式界面有記憶體緩存機制，範圍-5~256\n",
    "\n",
    "a = 257\n",
    "b = 257\n",
    "\n",
    "print(a is b)\n",
    "print(id(a)) #id()取得 變數位址\n",
    "print(id(b))\n",
    "\n",
    "print(a is not b)"
   ]
  },
  {
   "cell_type": "markdown",
   "metadata": {},
   "source": [
    "* is : 判斷變數位址是否相同\n",
    "* == : 判斷變數數值是否相同"
   ]
  },
  {
   "cell_type": "code",
   "execution_count": 62,
   "metadata": {},
   "outputs": [
    {
     "name": "stdout",
     "output_type": "stream",
     "text": [
      "[1, 2, 3]\n",
      "True\n",
      "a id = 2145269568328\n",
      "b id = 2145269568328\n",
      "True\n"
     ]
    }
   ],
   "source": [
    "a = [1,2,3]\n",
    "b = a\n",
    "print(b)\n",
    "print(b is a)\n",
    "print(\"a id = %d\" %(id(a)))\n",
    "print(\"b id = %d\" %(id(b)))\n",
    "print(b == a)"
   ]
  },
  {
   "cell_type": "markdown",
   "metadata": {},
   "source": [
    "### 2.1變數名稱與賦值¶\n",
    "變數名稱命名\n",
    "\n",
    "* 保留字不得做為變數名稱\n",
    "* 變數起始字母需為\"英文字母\" 或 \"_\"\n",
    "* 變數大小寫視為不同變數\n",
    "\n",
    "變數賦值\n",
    "\n",
    "* 變數名稱 = 變數值"
   ]
  },
  {
   "cell_type": "code",
   "execution_count": 47,
   "metadata": {},
   "outputs": [
    {
     "name": "stdout",
     "output_type": "stream",
     "text": [
      "['False', 'None', 'True', 'and', 'as', 'assert', 'break', 'class', 'continue', 'def', 'del', 'elif', 'else', 'except', 'finally', 'for', 'from', 'global', 'if', 'import', 'in', 'is', 'lambda', 'nonlocal', 'not', 'or', 'pass', 'raise', 'return', 'try', 'while', 'with', 'yield']\n"
     ]
    }
   ],
   "source": [
    "# 保留字\n",
    "import keyword\n",
    "print(keyword.kwlist)"
   ]
  },
  {
   "cell_type": "code",
   "execution_count": 3,
   "metadata": {},
   "outputs": [
    {
     "name": "stdout",
     "output_type": "stream",
     "text": [
      "100\n",
      "1000.0\n",
      "John\n"
     ]
    }
   ],
   "source": [
    "counter = 100  #整數\n",
    "miles = 1000.0 # 浮點數\n",
    "name = \"John\" # 字串\n",
    " \n",
    "print(counter)\n",
    "print(miles)\n",
    "print(name)"
   ]
  },
  {
   "cell_type": "markdown",
   "metadata": {},
   "source": [
    "### 2.2  多變數同時賦值\n",
    "\n",
    "變數名稱A = 變數名稱B = 變數名稱C = 變數值"
   ]
  },
  {
   "cell_type": "code",
   "execution_count": 4,
   "metadata": {},
   "outputs": [
    {
     "name": "stdout",
     "output_type": "stream",
     "text": [
      "10 10 10\n"
     ]
    }
   ],
   "source": [
    "a = b = c= 10\n",
    "\n",
    "print(a,b,c)"
   ]
  },
  {
   "cell_type": "code",
   "execution_count": 5,
   "metadata": {},
   "outputs": [
    {
     "name": "stdout",
     "output_type": "stream",
     "text": [
      "1.5 10 Apple\n"
     ]
    }
   ],
   "source": [
    "a, b, c = 1.5, 10, \"Apple\"\n",
    "\n",
    "print(a,b,c)"
   ]
  },
  {
   "cell_type": "markdown",
   "metadata": {},
   "source": [
    "### 2.3 刪除變數"
   ]
  },
  {
   "cell_type": "code",
   "execution_count": 7,
   "metadata": {},
   "outputs": [
    {
     "ename": "NameError",
     "evalue": "name 'a' is not defined",
     "output_type": "error",
     "traceback": [
      "\u001b[1;31m---------------------------------------------------------------------------\u001b[0m",
      "\u001b[1;31mNameError\u001b[0m                                 Traceback (most recent call last)",
      "\u001b[1;32m<ipython-input-7-c342333e421e>\u001b[0m in \u001b[0;36m<module>\u001b[1;34m()\u001b[0m\n\u001b[0;32m      1\u001b[0m \u001b[1;32mdel\u001b[0m \u001b[0ma\u001b[0m\u001b[1;33m\u001b[0m\u001b[0m\n\u001b[1;32m----> 2\u001b[1;33m \u001b[0mprint\u001b[0m\u001b[1;33m(\u001b[0m\u001b[0ma\u001b[0m\u001b[1;33m)\u001b[0m\u001b[1;33m\u001b[0m\u001b[0m\n\u001b[0m",
      "\u001b[1;31mNameError\u001b[0m: name 'a' is not defined"
     ]
    }
   ],
   "source": [
    "del a\n",
    "print(a)"
   ]
  },
  {
   "cell_type": "markdown",
   "metadata": {},
   "source": [
    "### 2.4  數字(Number)類型\n",
    "* int（整數）\n",
    "* float（浮點數）\n",
    "* complex (複數）"
   ]
  },
  {
   "cell_type": "code",
   "execution_count": 8,
   "metadata": {},
   "outputs": [
    {
     "name": "stdout",
     "output_type": "stream",
     "text": [
      "a = 10\n",
      "<class 'int'>\n",
      "b = 2\n",
      "b = 2.500000\n",
      "b = 2.5\n",
      "<class 'float'>\n",
      "(1.5+0.5j)\n",
      "1.5 0.5\n",
      "<class 'complex'>\n"
     ]
    }
   ],
   "source": [
    "a = 10\n",
    "print(\"a = %d\" %(a))\n",
    "print(type(a))\n",
    "\n",
    "b = 2.5\n",
    "print(\"b = %d\" %(b))\n",
    "print(\"b = %f\" %(b))\n",
    "print(\"b = %.1f\" %(b))\n",
    "print(type(b))\n",
    "\n",
    "c = 1.5+0.5j\n",
    "print(c)\n",
    "print(c.real,c.imag) # var.real 複數中的實數, var.imag 複數中的虛數 \n",
    "print(type(c))"
   ]
  },
  {
   "cell_type": "code",
   "execution_count": 9,
   "metadata": {},
   "outputs": [
    {
     "name": "stdout",
     "output_type": "stream",
     "text": [
      "a+b =  30\n",
      "a-b =  10\n",
      "a*b =  200\n",
      "a/b =  2.0 <class 'float'>\n",
      "a//b =  2 <class 'int'>\n",
      "a%b =  0 <class 'int'>\n",
      "a**b =  10240000000000 <class 'int'>\n"
     ]
    }
   ],
   "source": [
    "a = 20\n",
    "b = 10\n",
    "print (\"a+b = \" , a+b)  # 加法\n",
    "print (\"a-b = \" , a-b)  # 減法\n",
    "print (\"a*b = \" , a*b)  # 乘法\n",
    "print (\"a/b = \" , a/b, type(a/b))  # 除法\n",
    "print (\"a//b = \", a//b, type(a//b)) # 取整數\n",
    "print (\"a%b = \", a%b, type(a%b)) # 取餘數\n",
    "print (\"a**b = \", a**b, type(a**b)) # 乘方"
   ]
  },
  {
   "cell_type": "markdown",
   "metadata": {},
   "source": [
    "### 2.5 數字類型轉換\n",
    "* 整數可轉換成Float & Complex"
   ]
  },
  {
   "cell_type": "code",
   "execution_count": 10,
   "metadata": {},
   "outputs": [
    {
     "name": "stdout",
     "output_type": "stream",
     "text": [
      "Convert integer to float :  10.0 <class 'float'>\n",
      "Convert integer to complex :  (10+0j) <class 'complex'>\n"
     ]
    }
   ],
   "source": [
    "a = 10\n",
    "#整數轉換成長整數 int to long\n",
    "print(\"Convert integer to float : \",float(a),type(float(a)))\n",
    "\n",
    "#整數轉換成長整數 int to long\n",
    "print(\"Convert integer to complex : \",complex(a),type(complex(a)))\n"
   ]
  },
  {
   "cell_type": "code",
   "execution_count": 11,
   "metadata": {},
   "outputs": [
    {
     "name": "stdout",
     "output_type": "stream",
     "text": [
      "Convert integer to float :  10 <class 'int'>\n",
      "Convert integer to complex :  (10.25+0j) <class 'complex'>\n"
     ]
    }
   ],
   "source": [
    "b = 10.25\n",
    "#浮點數轉換成整數 float to int\n",
    "print(\"Convert integer to float : \",int(b),type(int(b)))\n",
    "\n",
    "#浮點數轉換成complex int to long\n",
    "print(\"Convert integer to complex : \",complex(b),type(complex(b)))"
   ]
  },
  {
   "cell_type": "code",
   "execution_count": 12,
   "metadata": {},
   "outputs": [
    {
     "ename": "TypeError",
     "evalue": "can't convert complex to int",
     "output_type": "error",
     "traceback": [
      "\u001b[1;31m---------------------------------------------------------------------------\u001b[0m",
      "\u001b[1;31mTypeError\u001b[0m                                 Traceback (most recent call last)",
      "\u001b[1;32m<ipython-input-12-7b902a58fa9d>\u001b[0m in \u001b[0;36m<module>\u001b[1;34m()\u001b[0m\n\u001b[0;32m      1\u001b[0m \u001b[0mc\u001b[0m \u001b[1;33m=\u001b[0m \u001b[1;36m10\u001b[0m\u001b[1;33m+\u001b[0m\u001b[1;36m5j\u001b[0m\u001b[1;33m\u001b[0m\u001b[0m\n\u001b[1;32m----> 2\u001b[1;33m \u001b[0mprint\u001b[0m\u001b[1;33m(\u001b[0m\u001b[1;34m\"Convert integer to float : \"\u001b[0m\u001b[1;33m,\u001b[0m\u001b[0mint\u001b[0m\u001b[1;33m(\u001b[0m\u001b[0mc\u001b[0m\u001b[1;33m)\u001b[0m\u001b[1;33m,\u001b[0m\u001b[0mtype\u001b[0m\u001b[1;33m(\u001b[0m\u001b[0mint\u001b[0m\u001b[1;33m(\u001b[0m\u001b[0mc\u001b[0m\u001b[1;33m)\u001b[0m\u001b[1;33m)\u001b[0m\u001b[1;33m)\u001b[0m\u001b[1;33m\u001b[0m\u001b[0m\n\u001b[0m\u001b[0;32m      3\u001b[0m \u001b[0mprint\u001b[0m\u001b[1;33m(\u001b[0m\u001b[1;34m\"Convert integer to float : \"\u001b[0m\u001b[1;33m,\u001b[0m\u001b[0mfloat\u001b[0m\u001b[1;33m(\u001b[0m\u001b[0mc\u001b[0m\u001b[1;33m)\u001b[0m\u001b[1;33m,\u001b[0m\u001b[0mtype\u001b[0m\u001b[1;33m(\u001b[0m\u001b[0mfloat\u001b[0m\u001b[1;33m(\u001b[0m\u001b[0mc\u001b[0m\u001b[1;33m)\u001b[0m\u001b[1;33m)\u001b[0m\u001b[1;33m)\u001b[0m\u001b[1;33m\u001b[0m\u001b[0m\n",
      "\u001b[1;31mTypeError\u001b[0m: can't convert complex to int"
     ]
    }
   ],
   "source": [
    "c = 10+5j\n",
    "print(\"Convert integer to float : \",int(c),type(int(c)))\n",
    "print(\"Convert integer to float : \",float(c),type(float(c)))"
   ]
  },
  {
   "cell_type": "code",
   "execution_count": 13,
   "metadata": {},
   "outputs": [
    {
     "name": "stdout",
     "output_type": "stream",
     "text": [
      "0o14\n"
     ]
    }
   ],
   "source": [
    "#轉 8進位 : oct(x)\n",
    "x  = 12\n",
    "print(oct(x))"
   ]
  },
  {
   "cell_type": "code",
   "execution_count": 14,
   "metadata": {},
   "outputs": [
    {
     "name": "stdout",
     "output_type": "stream",
     "text": [
      "0xc\n"
     ]
    }
   ],
   "source": [
    "#轉 16進位 : hex(x)\n",
    "x  = 12\n",
    "print(hex(x))"
   ]
  },
  {
   "cell_type": "code",
   "execution_count": 15,
   "metadata": {},
   "outputs": [
    {
     "name": "stdout",
     "output_type": "stream",
     "text": [
      "(10+2j)\n"
     ]
    }
   ],
   "source": [
    "# 創建複數\n",
    "a = 10 \n",
    "b = 2\n",
    "print(complex(a,b)) # complex(x, y) 將 x 和 y 轉換成一個複數與實數 x 和虛數 y。 x,y是數值表達式"
   ]
  },
  {
   "cell_type": "markdown",
   "metadata": {},
   "source": [
    "### 2.6 常用數學計算函數\n",
    "\n",
    "Python常用的數學運算函数 : math module、cmath module\n",
    "\n",
    "math module : 提供整數,浮點數運算常用的數學函數。https://docs.python.org/zh-cn/3/library/math.html\n",
    "\n",
    "cmath module : 提供複數運算常用的數學函數。 https://docs.python.org/zh-cn/3/library/cmath.html"
   ]
  },
  {
   "cell_type": "code",
   "execution_count": 17,
   "metadata": {},
   "outputs": [
    {
     "name": "stdout",
     "output_type": "stream",
     "text": [
      "['__doc__', '__loader__', '__name__', '__package__', '__spec__', 'acos', 'acosh', 'asin', 'asinh', 'atan', 'atan2', 'atanh', 'ceil', 'copysign', 'cos', 'cosh', 'degrees', 'e', 'erf', 'erfc', 'exp', 'expm1', 'fabs', 'factorial', 'floor', 'fmod', 'frexp', 'fsum', 'gamma', 'gcd', 'hypot', 'inf', 'isclose', 'isfinite', 'isinf', 'isnan', 'ldexp', 'lgamma', 'log', 'log10', 'log1p', 'log2', 'modf', 'nan', 'pi', 'pow', 'radians', 'sin', 'sinh', 'sqrt', 'tan', 'tanh', 'trunc']\n",
      "\n",
      "----------\n",
      "\n",
      "['__doc__', '__loader__', '__name__', '__package__', '__spec__', 'acos', 'acosh', 'asin', 'asinh', 'atan', 'atanh', 'cos', 'cosh', 'e', 'exp', 'isclose', 'isfinite', 'isinf', 'isnan', 'log', 'log10', 'phase', 'pi', 'polar', 'rect', 'sin', 'sinh', 'sqrt', 'tan', 'tanh']\n"
     ]
    }
   ],
   "source": [
    "import math,cmath\n",
    "print(dir(math))\n",
    "print(\"\\n----------\\n\")\n",
    "print(dir(cmath))"
   ]
  },
  {
   "cell_type": "code",
   "execution_count": 18,
   "metadata": {},
   "outputs": [
    {
     "name": "stdout",
     "output_type": "stream",
     "text": [
      "12.5\n",
      "10.0 <class 'float'>\n"
     ]
    }
   ],
   "source": [
    "# 取絕對值 =>  abs(x) : 返回 x 的絕對值：x 和 零之間的（正極）的距離。\n",
    "x = -12.5\n",
    "print(abs(x)) \n",
    "\n",
    "x = -10\n",
    "print(math.fabs(x),type(math.fabs(x))) # # 取絕對值,但回傳值型態是float"
   ]
  },
  {
   "cell_type": "code",
   "execution_count": 19,
   "metadata": {},
   "outputs": [
    {
     "name": "stdout",
     "output_type": "stream",
     "text": [
      "13\n",
      "-12\n"
     ]
    }
   ],
   "source": [
    "# 取數值x的上限 => ceil(x) : x的上限：不小於 x 的最小整數　＝＞　無條件進位\n",
    "x = 12.3 \n",
    "print(math.ceil(x))\n",
    "x = -12.5\n",
    "print(math.ceil(x))"
   ]
  },
  {
   "cell_type": "code",
   "execution_count": 20,
   "metadata": {},
   "outputs": [
    {
     "name": "stdout",
     "output_type": "stream",
     "text": [
      "5.0\n",
      "(3.5777087639996634+3.577708763999664j)\n"
     ]
    }
   ],
   "source": [
    "#取平方根\n",
    "x = 25 \n",
    "print(math.sqrt(x))\n",
    "\n",
    "x = 25.6j\n",
    "print(cmath.sqrt(x))\n"
   ]
  },
  {
   "cell_type": "code",
   "execution_count": 21,
   "metadata": {},
   "outputs": [
    {
     "name": "stdout",
     "output_type": "stream",
     "text": [
      "2.0\n",
      "2.0\n"
     ]
    }
   ],
   "source": [
    "#取 log =>log(x), log10()\n",
    "x = 100\n",
    "print(math.log(x,10))\n",
    "print(math.log10(x))"
   ]
  },
  {
   "cell_type": "code",
   "execution_count": 22,
   "metadata": {},
   "outputs": [
    {
     "name": "stdout",
     "output_type": "stream",
     "text": [
      "12\n"
     ]
    }
   ],
   "source": [
    "#取數字的下捨整數 =>　無條件捨去\n",
    "import math\n",
    "x = 12.5\n",
    "print(math.floor(x))"
   ]
  },
  {
   "cell_type": "code",
   "execution_count": 23,
   "metadata": {},
   "outputs": [
    {
     "name": "stdout",
     "output_type": "stream",
     "text": [
      "50\n",
      "-5\n"
     ]
    }
   ],
   "source": [
    "# 取數值序列中最大/小值  => max(), min()\n",
    "x = 12.5\n",
    "print(max(50,23,45,12.5,-5,33))\n",
    "print(min(50,23,45,12.5,-5,33))"
   ]
  },
  {
   "cell_type": "code",
   "execution_count": 24,
   "metadata": {},
   "outputs": [
    {
     "name": "stdout",
     "output_type": "stream",
     "text": [
      "12\n",
      "12\n",
      "13\n",
      "12.3\n"
     ]
    }
   ],
   "source": [
    "#四捨五入 round()\n",
    "x = 12.4\n",
    "print(round(x))\n",
    "x = 12.5\n",
    "print(round(x))\n",
    "x = 12.8 \n",
    "print(round(x))\n",
    "x = 12.26\n",
    "print(round(x,1))"
   ]
  },
  {
   "cell_type": "code",
   "execution_count": 25,
   "metadata": {},
   "outputs": [
    {
     "name": "stdout",
     "output_type": "stream",
     "text": [
      "3.141592653589793\n"
     ]
    }
   ],
   "source": [
    "# 取圓周率\n",
    "print(math.pi)"
   ]
  },
  {
   "cell_type": "code",
   "execution_count": 26,
   "metadata": {},
   "outputs": [
    {
     "name": "stdout",
     "output_type": "stream",
     "text": [
      "2.718281828459045\n"
     ]
    }
   ],
   "source": [
    "# 取數學常量常數e\n",
    "print(math.e)"
   ]
  },
  {
   "cell_type": "markdown",
   "metadata": {},
   "source": [
    "### 2.7 常用數學三角函數"
   ]
  },
  {
   "cell_type": "code",
   "execution_count": 28,
   "metadata": {},
   "outputs": [
    {
     "name": "stdout",
     "output_type": "stream",
     "text": [
      "sin(10) : -0.54402 \n",
      "cos(10) : -0.83907 \n",
      "tan(10) : 0.64836 \n",
      "-------將角度轉化成弧度 math.radians()------------\n",
      "0.00\n",
      "0.79\n",
      "1.57\n",
      "2.36\n",
      "3.14\n",
      "-------將弧度轉化成角度 math.degress()------------\n",
      "180.00\n",
      "180.00\n",
      "135.00\n",
      "90.00\n",
      "45.00\n"
     ]
    }
   ],
   "source": [
    "x = 10\n",
    "print(\"sin(%d) : %.5f \" %(x,math.sin(x))) # 取 sin值: sin() :返回x弧度的正弦值\n",
    "print(\"cos(%d) : %.5f \" %(x,math.cos(x))) # 取 cos值: cos() :返回x的弧度的餘弦值\n",
    "print(\"tan(%d) : %.5f \" %(x,math.tan(x))) # 取 tan值: tan() :返回x的弧度的餘弦值\n",
    "\n",
    "print(\"-------將角度轉化成弧度 math.radians()------------\");\n",
    "print(\"%.2f\" %(math.radians(0))) \n",
    "print(\"%.2f\" %(math.radians(45)))\n",
    "print(\"%.2f\" %(math.radians(90))) \n",
    "print(\"%.2f\" %(math.radians(135)))\n",
    "print(\"%.2f\" %(math.radians(180))) \n",
    "\n",
    "print(\"-------將弧度轉化成角度 math.degress()------------\");\n",
    "print(\"%.2f\" %(math.degrees(math.pi)))\n",
    "print(\"%.2f\" %(math.degrees(math.pi))) \n",
    "print(\"%.2f\" %(math.degrees(math.pi*3/4))) \n",
    "print(\"%.2f\" %(math.degrees(math.pi/2)))\n",
    "print(\"%.2f\" %(math.degrees(math.pi/4)))"
   ]
  },
  {
   "cell_type": "markdown",
   "metadata": {},
   "source": [
    "### 2.8 字串String\n",
    "* 單引號（'）或雙引號（\"）包起來的資料都是字串"
   ]
  },
  {
   "cell_type": "code",
   "execution_count": 29,
   "metadata": {},
   "outputs": [
    {
     "name": "stdout",
     "output_type": "stream",
     "text": [
      "I'm Nick\n",
      "I'm Nick\n"
     ]
    }
   ],
   "source": [
    "strA ='I\\'m Nick'\n",
    "strB = \"I\\'m Nick\"\n",
    "print(strA)\n",
    "print(strB)"
   ]
  },
  {
   "cell_type": "code",
   "execution_count": 30,
   "metadata": {},
   "outputs": [
    {
     "name": "stdout",
     "output_type": "stream",
     "text": [
      "Hello World!I'm Ncik\n"
     ]
    }
   ],
   "source": [
    "#字串連接 (+)\n",
    "strA = 'Hello World!'\n",
    "strB = 'I\\'m Ncik' # I'm Nick\n",
    "print(strA + strB)"
   ]
  },
  {
   "cell_type": "code",
   "execution_count": 31,
   "metadata": {},
   "outputs": [
    {
     "name": "stdout",
     "output_type": "stream",
     "text": [
      "Hello World!Hello World!\n"
     ]
    }
   ],
   "source": [
    "#重覆字串 (*)\n",
    "print(strA * 2)"
   ]
  },
  {
   "cell_type": "code",
   "execution_count": 32,
   "metadata": {},
   "outputs": [
    {
     "name": "stdout",
     "output_type": "stream",
     "text": [
      "o\n",
      "Hello\n"
     ]
    }
   ],
   "source": [
    "#取得字串中第i個字符 var[idx]\n",
    "print(strA[4])\n",
    "\n",
    "#取得字串中某一段字符 var[:]\n",
    "print(strA[0:5])"
   ]
  },
  {
   "cell_type": "code",
   "execution_count": 33,
   "metadata": {},
   "outputs": [
    {
     "name": "stdout",
     "output_type": "stream",
     "text": [
      "True\n",
      "False\n"
     ]
    }
   ],
   "source": [
    "#判斷某字符或字串是否在字串中 (in)\n",
    "print (\"Hello\" in strA)\n",
    "\n",
    "#判斷某字符或字串是否不在字串中 (not in)\n",
    "print (\"W\" not in strA)"
   ]
  },
  {
   "cell_type": "code",
   "execution_count": 34,
   "metadata": {},
   "outputs": [
    {
     "name": "stdout",
     "output_type": "stream",
     "text": [
      "我的名字是Nick , 身高 173 cm.\n"
     ]
    }
   ],
   "source": [
    "print (\"我的名字是%s , 身高 %d cm.\" % ('Nick', 173))"
   ]
  },
  {
   "cell_type": "code",
   "execution_count": 35,
   "metadata": {},
   "outputs": [
    {
     "name": "stdout",
     "output_type": "stream",
     "text": [
      "Hello\n"
     ]
    }
   ],
   "source": [
    "#將字串中第一個字母轉為大寫 str.capitalize()\n",
    "strA = \"hello\"\n",
    "print(strA.capitalize())"
   ]
  },
  {
   "cell_type": "code",
   "execution_count": 36,
   "metadata": {},
   "outputs": [
    {
     "name": "stdout",
     "output_type": "stream",
     "text": [
      "2\n",
      "0\n"
     ]
    }
   ],
   "source": [
    "# 回傳某字元或字串在原字串中的次數\n",
    "strA = \"hello\"\n",
    "print(strA.count('l'))\n",
    "print(strA.count('l',0,2)) # position : 0~2"
   ]
  },
  {
   "cell_type": "code",
   "execution_count": 37,
   "metadata": {},
   "outputs": [
    {
     "name": "stdout",
     "output_type": "stream",
     "text": [
      "5\n"
     ]
    }
   ],
   "source": [
    "# 回傳字串長度\n",
    "strA = \"hello\"\n",
    "print(len(strA))"
   ]
  },
  {
   "cell_type": "code",
   "execution_count": 38,
   "metadata": {},
   "outputs": [
    {
     "name": "stdout",
     "output_type": "stream",
     "text": [
      "o\n",
      "e\n"
     ]
    }
   ],
   "source": [
    "#回傳字串中最大的字元\n",
    "strA = \"hello\"\n",
    "print(max(strA))\n",
    "\n",
    "#回傳字串中最小的字元\n",
    "print(min(strA))"
   ]
  },
  {
   "cell_type": "code",
   "execution_count": 39,
   "metadata": {},
   "outputs": [
    {
     "name": "stdout",
     "output_type": "stream",
     "text": [
      "heaao\n",
      "healo\n"
     ]
    }
   ],
   "source": [
    "#字串取代\n",
    "strA = \"hello\"\n",
    "print(strA.replace(\"l\",\"a\"))\n",
    "print(strA.replace(\"l\",\"a\",1))"
   ]
  },
  {
   "cell_type": "code",
   "execution_count": null,
   "metadata": {},
   "outputs": [],
   "source": [
    "#回傳一個以原字串置中的字串\n",
    "strA = \"hello\"\n",
    "print(strA.center(10,'-'))"
   ]
  },
  {
   "cell_type": "code",
   "execution_count": 40,
   "metadata": {},
   "outputs": [
    {
     "name": "stdout",
     "output_type": "stream",
     "text": [
      "False\n",
      "True\n"
     ]
    }
   ],
   "source": [
    "# 判斷字串是否以英文字母或數字組成 , 回傳Ture / False\n",
    "strA = \"hello!123\"\n",
    "print(strA.isalnum())\n",
    "\n",
    "strA = \"hello123\"\n",
    "print(strA.isalnum())"
   ]
  },
  {
   "cell_type": "code",
   "execution_count": 41,
   "metadata": {},
   "outputs": [
    {
     "name": "stdout",
     "output_type": "stream",
     "text": [
      "True\n"
     ]
    }
   ],
   "source": [
    "#判斷字串組成是否為數字\n",
    "strA=\"1231231\"\n",
    "print(strA.isdigit())"
   ]
  },
  {
   "cell_type": "code",
   "execution_count": 42,
   "metadata": {},
   "outputs": [
    {
     "name": "stdout",
     "output_type": "stream",
     "text": [
      "Hello, world!\n"
     ]
    }
   ],
   "source": [
    "# Unicode字符串 : Python普通字符串在內部存儲為8位ASCII，而Unicode字符串被作為16位Unicode儲存\n",
    "\n",
    "print(u'Hello, world!')"
   ]
  },
  {
   "cell_type": "code",
   "execution_count": null,
   "metadata": {},
   "outputs": [],
   "source": []
  },
  {
   "cell_type": "markdown",
   "metadata": {},
   "source": [
    "## 03. Condition & Loop Control"
   ]
  },
  {
   "cell_type": "markdown",
   "metadata": {},
   "source": [
    "### 3.1 IF ....ELSE"
   ]
  },
  {
   "cell_type": "code",
   "execution_count": 43,
   "metadata": {},
   "outputs": [
    {
     "name": "stdout",
     "output_type": "stream",
     "text": [
      "ByeBye\n"
     ]
    }
   ],
   "source": [
    "sex = 'F'\n",
    " \n",
    "if sex == 'M' :\n",
    "    print(\"Hello\")\n",
    "\n",
    "else:\n",
    "    print(\"ByeBye\")"
   ]
  },
  {
   "cell_type": "code",
   "execution_count": 44,
   "metadata": {},
   "outputs": [
    {
     "name": "stdout",
     "output_type": "stream",
     "text": [
      "ByeBye\n"
     ]
    }
   ],
   "source": [
    "# m if m > n else n\n",
    "\n",
    "print(\"Hello\") if sex == 'M' else print(\"ByeBye\")"
   ]
  },
  {
   "cell_type": "markdown",
   "metadata": {},
   "source": [
    "### 3.2 IF ....ELIF.....ELSE..."
   ]
  },
  {
   "cell_type": "code",
   "execution_count": 45,
   "metadata": {},
   "outputs": [
    {
     "name": "stdout",
     "output_type": "stream",
     "text": [
      "猜數字遊戲\n",
      "請輸入猜的數字：40\n",
      "猜的數字太大...\n"
     ]
    }
   ],
   "source": [
    "number = 35\n",
    "print(\"猜數字遊戲\")\n",
    "\n",
    "guess = int(input(\"請輸入猜的數字：\"))\n",
    " \n",
    "if guess == number:\n",
    "    print(\"猜對了!!\")\n",
    "elif guess < number:\n",
    "    print(\"猜的數字太小...\")\n",
    "else:\n",
    "    print(\"猜的數字太大...\")"
   ]
  },
  {
   "cell_type": "code",
   "execution_count": 46,
   "metadata": {},
   "outputs": [
    {
     "name": "stdout",
     "output_type": "stream",
     "text": [
      "D\n",
      "C\n"
     ]
    }
   ],
   "source": [
    "#巢狀if else迴圈\n",
    "\n",
    "score=85\n",
    "\n",
    "if(score>60):    \n",
    "    if(score>60 and score<=70):       \n",
    "        print(\"F\")    \n",
    "    elif(score>70 and score<=80):        \n",
    "        print(\"E\")    \n",
    "    elif(score>80 and score<=90):       \n",
    "        print(\"D\")       \n",
    "        if(score==85):           \n",
    "            print(\"C\")    \n",
    "    else:       \n",
    "        print(\"A\")"
   ]
  },
  {
   "cell_type": "markdown",
   "metadata": {},
   "source": [
    "### 3.3 循環控制 For loop & While loop"
   ]
  },
  {
   "cell_type": "markdown",
   "metadata": {},
   "source": [
    "### 3.3.1 For loop"
   ]
  },
  {
   "cell_type": "code",
   "execution_count": 47,
   "metadata": {},
   "outputs": [],
   "source": [
    "# for(int i=0 ; i<10 ; i++)\n",
    "# {\n",
    "#    print(\"%d\",i)\n",
    "# }"
   ]
  },
  {
   "cell_type": "code",
   "execution_count": 48,
   "metadata": {},
   "outputs": [
    {
     "name": "stdout",
     "output_type": "stream",
     "text": [
      "1\n",
      "2\n",
      "3\n",
      "4\n",
      "5\n",
      "6\n",
      "7\n",
      "8\n",
      "9\n"
     ]
    }
   ],
   "source": [
    "for i in range(1,10):\n",
    "    print(i)"
   ]
  },
  {
   "cell_type": "code",
   "execution_count": 49,
   "metadata": {},
   "outputs": [],
   "source": [
    "# for(int i=0 ; i<10 ; i++)\n",
    "# {\n",
    "#   for(int i=0 ; i<10 ; i++)\n",
    "#    {\n",
    "#         printf(\"%d x %d = %d\",i,j,i*j); \n",
    "#    }   \n",
    "# }"
   ]
  },
  {
   "cell_type": "code",
   "execution_count": 50,
   "metadata": {},
   "outputs": [
    {
     "name": "stdout",
     "output_type": "stream",
     "text": [
      "1 x 1 = 1\n",
      "1 x 2 = 2\n",
      "1 x 3 = 3\n",
      "1 x 4 = 4\n",
      "1 x 5 = 5\n",
      "1 x 6 = 6\n",
      "1 x 7 = 7\n",
      "1 x 8 = 8\n",
      "1 x 9 = 9\n",
      "2 x 1 = 2\n",
      "2 x 2 = 4\n",
      "2 x 3 = 6\n",
      "2 x 4 = 8\n",
      "2 x 5 = 10\n",
      "2 x 6 = 12\n",
      "2 x 7 = 14\n",
      "2 x 8 = 16\n",
      "2 x 9 = 18\n",
      "3 x 1 = 3\n",
      "3 x 2 = 6\n",
      "3 x 3 = 9\n",
      "3 x 4 = 12\n",
      "3 x 5 = 15\n",
      "3 x 6 = 18\n",
      "3 x 7 = 21\n",
      "3 x 8 = 24\n",
      "3 x 9 = 27\n",
      "4 x 1 = 4\n",
      "4 x 2 = 8\n",
      "4 x 3 = 12\n",
      "4 x 4 = 16\n",
      "4 x 5 = 20\n",
      "4 x 6 = 24\n",
      "4 x 7 = 28\n",
      "4 x 8 = 32\n",
      "4 x 9 = 36\n",
      "5 x 1 = 5\n",
      "5 x 2 = 10\n",
      "5 x 3 = 15\n",
      "5 x 4 = 20\n",
      "5 x 5 = 25\n",
      "5 x 6 = 30\n",
      "5 x 7 = 35\n",
      "5 x 8 = 40\n",
      "5 x 9 = 45\n",
      "6 x 1 = 6\n",
      "6 x 2 = 12\n",
      "6 x 3 = 18\n",
      "6 x 4 = 24\n",
      "6 x 5 = 30\n",
      "6 x 6 = 36\n",
      "6 x 7 = 42\n",
      "6 x 8 = 48\n",
      "6 x 9 = 54\n",
      "7 x 1 = 7\n",
      "7 x 2 = 14\n",
      "7 x 3 = 21\n",
      "7 x 4 = 28\n",
      "7 x 5 = 35\n",
      "7 x 6 = 42\n",
      "7 x 7 = 49\n",
      "7 x 8 = 56\n",
      "7 x 9 = 63\n",
      "8 x 1 = 8\n",
      "8 x 2 = 16\n",
      "8 x 3 = 24\n",
      "8 x 4 = 32\n",
      "8 x 5 = 40\n",
      "8 x 6 = 48\n",
      "8 x 7 = 56\n",
      "8 x 8 = 64\n",
      "8 x 9 = 72\n",
      "9 x 1 = 9\n",
      "9 x 2 = 18\n",
      "9 x 3 = 27\n",
      "9 x 4 = 36\n",
      "9 x 5 = 45\n",
      "9 x 6 = 54\n",
      "9 x 7 = 63\n",
      "9 x 8 = 72\n",
      "9 x 9 = 81\n"
     ]
    }
   ],
   "source": [
    "for i in range(1,10):\n",
    "    for j in range(1,10):\n",
    "        print(\"%d x %d = %d\" %(i,j,i*j))"
   ]
  },
  {
   "cell_type": "code",
   "execution_count": 51,
   "metadata": {},
   "outputs": [
    {
     "name": "stdout",
     "output_type": "stream",
     "text": [
      "100\n",
      "200\n",
      "300\n",
      "400\n",
      "500\n",
      "600\n",
      "700\n"
     ]
    }
   ],
   "source": [
    "listA = [100,200,300,400,500,600,700]\n",
    "\n",
    "for item in listA:\n",
    "    print(item)"
   ]
  },
  {
   "cell_type": "code",
   "execution_count": 52,
   "metadata": {},
   "outputs": [
    {
     "name": "stdout",
     "output_type": "stream",
     "text": [
      "index = 0 , value = 100 \n",
      "index = 1 , value = 200 \n",
      "index = 2 , value = 300 \n",
      "index = 3 , value = 400 \n",
      "index = 4 , value = 500 \n",
      "index = 5 , value = 600 \n",
      "index = 6 , value = 700 \n"
     ]
    }
   ],
   "source": [
    "listA = [100,200,300,400,500,600,700]\n",
    "i = 0\n",
    "for item in listA:\n",
    "    print(\"index = %d , value = %d \"%(i,item))\n",
    "    i+=1"
   ]
  },
  {
   "cell_type": "code",
   "execution_count": 53,
   "metadata": {},
   "outputs": [
    {
     "name": "stdout",
     "output_type": "stream",
     "text": [
      "index = 0 , value = 100 \n",
      "index = 1 , value = 200 \n",
      "index = 2 , value = 300 \n",
      "index = 3 , value = 400 \n",
      "index = 4 , value = 500 \n",
      "index = 5 , value = 600 \n",
      "index = 6 , value = 700 \n"
     ]
    }
   ],
   "source": [
    "listA = [100,200,300,400,500,600,700]\n",
    "\n",
    "for idx, val in enumerate(listA):\n",
    "    print(\"index = %d , value = %d \"%(idx,val))"
   ]
  },
  {
   "cell_type": "markdown",
   "metadata": {},
   "source": [
    "### 3.3.2 While loop"
   ]
  },
  {
   "cell_type": "code",
   "execution_count": 54,
   "metadata": {},
   "outputs": [
    {
     "name": "stdout",
     "output_type": "stream",
     "text": [
      "0  < 8\n",
      "1  < 8\n",
      "2  < 8\n",
      "3  < 8\n",
      "4  < 8\n",
      "5  < 8\n",
      "6  < 8\n",
      "7  < 8\n"
     ]
    }
   ],
   "source": [
    "count = 0\n",
    "while count < 8:\n",
    "    print (count, \" < 8\")\n",
    "    count += 1"
   ]
  },
  {
   "cell_type": "code",
   "execution_count": 55,
   "metadata": {},
   "outputs": [
    {
     "name": "stdout",
     "output_type": "stream",
     "text": [
      "0  < 5\n",
      "1  < 5\n",
      "2  < 5\n",
      "3  < 5\n",
      "4  < 5\n",
      "5  >= 5\n"
     ]
    }
   ],
   "source": [
    "count = 0\n",
    "while count < 5:\n",
    "    print (count, \" < 5\")\n",
    "    count = count + 1\n",
    "else:\n",
    "    print (count, \" >= 5\")"
   ]
  },
  {
   "cell_type": "markdown",
   "metadata": {},
   "source": [
    "### 3.3.3 Break,Continue,Pass"
   ]
  },
  {
   "cell_type": "code",
   "execution_count": 57,
   "metadata": {},
   "outputs": [
    {
     "name": "stdout",
     "output_type": "stream",
     "text": [
      "p\n",
      "y\n",
      "t\n"
     ]
    }
   ],
   "source": [
    "for letter in 'python': \n",
    "    if letter == 'h':\n",
    "        break\n",
    "    print(letter)"
   ]
  },
  {
   "cell_type": "code",
   "execution_count": 58,
   "metadata": {},
   "outputs": [
    {
     "name": "stdout",
     "output_type": "stream",
     "text": [
      "貓咪\n",
      "Loop Finish!\n"
     ]
    }
   ],
   "source": [
    "animals = [\"Cat\", \"Dog\",\"Bird\",\"Panda\"]\n",
    "for animal in animals:\n",
    "    if animal == \"Cat\":\n",
    "        print(\"貓咪\")\n",
    "        break\n",
    "        print(\"data \" + animal)\n",
    "    else:\n",
    "        print(\"data \" + animal)\n",
    "\n",
    "print(\"Loop Finish!\")"
   ]
  },
  {
   "cell_type": "code",
   "execution_count": 59,
   "metadata": {},
   "outputs": [
    {
     "name": "stdout",
     "output_type": "stream",
     "text": [
      "p\n",
      "y\n",
      "t\n",
      "o\n",
      "n\n"
     ]
    }
   ],
   "source": [
    "for letter in 'python': \n",
    "    if letter == 'h':\n",
    "        continue\n",
    "    print(letter)"
   ]
  },
  {
   "cell_type": "code",
   "execution_count": 60,
   "metadata": {},
   "outputs": [
    {
     "name": "stdout",
     "output_type": "stream",
     "text": [
      "貓咪\n",
      "data Dog\n",
      "data Bird\n",
      "data Panda\n",
      "Loop Finish!\n"
     ]
    }
   ],
   "source": [
    "animals = [\"Cat\", \"Dog\",\"Bird\",\"Panda\"]\n",
    "for animal in animals:\n",
    "    if animal == \"Cat\":\n",
    "        print(\"貓咪\")\n",
    "        continue\n",
    "        print(\"data \" + animal)\n",
    "    else:\n",
    "        print(\"data \" + animal)\n",
    "\n",
    "print(\"Loop Finish!\")"
   ]
  },
  {
   "cell_type": "markdown",
   "metadata": {},
   "source": [
    "## 04. Data Structure"
   ]
  },
  {
   "cell_type": "markdown",
   "metadata": {},
   "source": [
    "## 4.1 列表 (List)\n",
    "\n",
    "* 一個序列中的每個元素都分配有一個數字- 它的位置或索引\n",
    "* list = [ ]"
   ]
  },
  {
   "cell_type": "code",
   "execution_count": 61,
   "metadata": {},
   "outputs": [
    {
     "name": "stdout",
     "output_type": "stream",
     "text": [
      "[1, 2, 3, 4, 5, 6] <class 'list'>\n",
      "['Apple', 'Bee', 'Cat', 'Dog'] <class 'list'>\n",
      "['Apple', 123, 'Bee', 456] <class 'list'>\n"
     ]
    }
   ],
   "source": [
    "listA = [1,2,3,4,5,6]\n",
    "listB = [\"Apple\",\"Bee\",\"Cat\",\"Dog\"]\n",
    "listC = [\"Apple\",123,\"Bee\",456]\n",
    "print(listA , type(listA))\n",
    "print(listB , type(listB))\n",
    "print(listC , type(listC))"
   ]
  },
  {
   "cell_type": "markdown",
   "metadata": {},
   "source": [
    "### 4.1.1 List常用操作"
   ]
  },
  {
   "cell_type": "markdown",
   "metadata": {},
   "source": [
    "#### 回傳 List 中元素\n",
    "* var[index] : 回傳list中特定位置元素\n",
    "* var[start:end]： 回傳list中特定範圍的元素"
   ]
  },
  {
   "cell_type": "code",
   "execution_count": 64,
   "metadata": {},
   "outputs": [
    {
     "name": "stdout",
     "output_type": "stream",
     "text": [
      "1\n",
      "9\n",
      "[1, 3, 5]\n"
     ]
    }
   ],
   "source": [
    "listA = [1,3,5,7,9]\n",
    "print(listA[0])\n",
    "print(listA[-1])\n",
    "print(listA[0:3])"
   ]
  },
  {
   "cell_type": "markdown",
   "metadata": {},
   "source": [
    "#### 回傳 List 元素個數"
   ]
  },
  {
   "cell_type": "code",
   "execution_count": 66,
   "metadata": {},
   "outputs": [
    {
     "name": "stdout",
     "output_type": "stream",
     "text": [
      "4\n"
     ]
    }
   ],
   "source": [
    "listA = [\"Apple\",123,\"Bee\",456]\n",
    "print(len(listA))"
   ]
  },
  {
   "cell_type": "markdown",
   "metadata": {},
   "source": [
    "#### 回傳 List 中最大 / 最小的元素\n",
    "\n",
    "* List中的元素需為相同型態,如 List中元素型態為整數,浮點數則不限"
   ]
  },
  {
   "cell_type": "code",
   "execution_count": 68,
   "metadata": {},
   "outputs": [
    {
     "name": "stdout",
     "output_type": "stream",
     "text": [
      "Dog\n",
      "Apple\n"
     ]
    }
   ],
   "source": [
    "listB =[\"Apple\",\"Bee\",\"Cat\",\"Dog\"]\n",
    "print(max(listB)) #　List中的元素需為相同型態\n",
    "print(min(listB)) #　List中的元素需為相同型態"
   ]
  },
  {
   "cell_type": "code",
   "execution_count": 69,
   "metadata": {},
   "outputs": [
    {
     "name": "stdout",
     "output_type": "stream",
     "text": [
      "45.5\n",
      "5\n"
     ]
    }
   ],
   "source": [
    "listB =[10,20,30,45.5,5]\n",
    "print(max(listB))\n",
    "print(min(listB))"
   ]
  },
  {
   "cell_type": "markdown",
   "metadata": {},
   "source": [
    "#### 新增元素\n",
    "* append() : 新增元素至list末端\n",
    "* insert(index,obj) : 新增某元素至list中特定位置"
   ]
  },
  {
   "cell_type": "code",
   "execution_count": 70,
   "metadata": {},
   "outputs": [
    {
     "name": "stdout",
     "output_type": "stream",
     "text": [
      "['Apple', 123, 'Bee', 456, 'Elephant']\n"
     ]
    }
   ],
   "source": [
    "listA = [\"Apple\",123,\"Bee\",456]\n",
    "listA.append(\"Elephant\")\n",
    "print(listA)"
   ]
  },
  {
   "cell_type": "code",
   "execution_count": 71,
   "metadata": {},
   "outputs": [
    {
     "name": "stdout",
     "output_type": "stream",
     "text": [
      "['Apple', 123, 'Air', 'Bee', 456, 'Elephant']\n"
     ]
    }
   ],
   "source": [
    "listA.insert(2,\"Air\")\n",
    "print(listA)"
   ]
  },
  {
   "cell_type": "markdown",
   "metadata": {},
   "source": [
    "#### 移除元素\n",
    "* remove() : 移除list 中特定元素\n",
    "* pop() : 移除list中最後一個元素"
   ]
  },
  {
   "cell_type": "code",
   "execution_count": 72,
   "metadata": {},
   "outputs": [
    {
     "name": "stdout",
     "output_type": "stream",
     "text": [
      "['Apple', 123, 456]\n",
      "['Apple', 123]\n"
     ]
    }
   ],
   "source": [
    "listA = [\"Apple\",123,\"Bee\",456]\n",
    "\n",
    "listA.remove(\"Bee\")\n",
    "print(listA)\n",
    "\n",
    "listA.pop()\n",
    "print(listA)"
   ]
  },
  {
   "cell_type": "markdown",
   "metadata": {},
   "source": [
    "#### 元素排序\n",
    "* 元素型態要相同\n",
    "* 字串string : 依照字母順序排序\n",
    "* 數字 : 依照數字大小排序"
   ]
  },
  {
   "cell_type": "code",
   "execution_count": 73,
   "metadata": {},
   "outputs": [
    {
     "name": "stdout",
     "output_type": "stream",
     "text": [
      "['Apple', 'Bee', 'Cat', 'Dog']\n",
      "['Air', 'Ant', 'Apple']\n",
      "[11.5, 20, 30]\n"
     ]
    }
   ],
   "source": [
    "listB =[\"Apple\",\"Cat\",\"Bee\",\"Dog\"]\n",
    "\n",
    "listB.sort()\n",
    "print(listB)\n",
    "\n",
    "listB =[\"Apple\",\"Air\",\"Ant\"]\n",
    "\n",
    "listB.sort()\n",
    "print(listB)\n",
    "\n",
    "listB =[30,20,11.5]\n",
    "\n",
    "listB.sort()\n",
    "print(listB)"
   ]
  },
  {
   "cell_type": "markdown",
   "metadata": {},
   "source": [
    "#### 串列元素反向"
   ]
  },
  {
   "cell_type": "code",
   "execution_count": 74,
   "metadata": {},
   "outputs": [
    {
     "name": "stdout",
     "output_type": "stream",
     "text": [
      "['Cat', 'Dog', 'Bee', 'Elephant', 'Apple']\n",
      "[5, 80, 1, 2, 99]\n"
     ]
    }
   ],
   "source": [
    "#reverse() : 將list反向\n",
    "listA = ['Apple', 'Elephant', 'Bee', 'Dog', 'Cat' ]\n",
    "listA.reverse()\n",
    "print(listA)\n",
    "\n",
    "listB = [99, 2, 1, 80, 5 ]\n",
    "listB.reverse()\n",
    "print(listB)"
   ]
  },
  {
   "cell_type": "markdown",
   "metadata": {},
   "source": [
    "#### 串列連接"
   ]
  },
  {
   "cell_type": "code",
   "execution_count": 76,
   "metadata": {},
   "outputs": [
    {
     "name": "stdout",
     "output_type": "stream",
     "text": [
      "['Apple', 'Elephant', 'Bee', 'D', 'o', 'g']\n",
      "['Apple', 'Elephant', 'Bee', 'D', 'o', 'g', 'Cat', 'Panda']\n"
     ]
    }
   ],
   "source": [
    "listA = ['Apple', 'Elephant', 'Bee']\n",
    "\n",
    "listA.extend( 'Dog')\n",
    "print(listA)\n",
    "\n",
    "listA += ['Cat', 'Panda'] \n",
    "print(listA)"
   ]
  },
  {
   "cell_type": "markdown",
   "metadata": {},
   "source": [
    "#### 刪除串列中特定 index 值元素"
   ]
  },
  {
   "cell_type": "code",
   "execution_count": 77,
   "metadata": {},
   "outputs": [
    {
     "data": {
      "text/plain": [
       "['Apple', 'Elephant']"
      ]
     },
     "execution_count": 77,
     "metadata": {},
     "output_type": "execute_result"
    }
   ],
   "source": [
    "# del 刪除特定 index 值\n",
    "\n",
    "listA = ['Apple', 'Elephant', 'Bee']\n",
    "\n",
    "del listA[-1]\n",
    "listA"
   ]
  },
  {
   "cell_type": "markdown",
   "metadata": {},
   "source": [
    "#### 檢查元素是否在串列"
   ]
  },
  {
   "cell_type": "code",
   "execution_count": 78,
   "metadata": {},
   "outputs": [
    {
     "name": "stdout",
     "output_type": "stream",
     "text": [
      "False\n",
      "True\n",
      "True\n",
      "False\n"
     ]
    }
   ],
   "source": [
    "# in , not in 檢查元素是否在串列\n",
    "listA = ['Apple', 'Elephant', 'Bee']\n",
    "print(\"Cat\" in listA)\n",
    "print(\"Bee\" in listA)\n",
    "\n",
    "print(\"Cat\" not in listA)\n",
    "print(\"Bee\" not in listA)"
   ]
  },
  {
   "cell_type": "markdown",
   "metadata": {},
   "source": [
    "## 4.2 元組 (Tuple)\n",
    "* tuple = ()\n",
    "* 與list相似,但無法更改元素\n",
    "佔用空間較少\n",
    "* 可以當做字典的 key（因不可變）"
   ]
  },
  {
   "cell_type": "code",
   "execution_count": 79,
   "metadata": {},
   "outputs": [
    {
     "name": "stdout",
     "output_type": "stream",
     "text": [
      "<class 'tuple'>\n"
     ]
    }
   ],
   "source": [
    "tup1 = ()\n",
    "#tup2 = (50)\n",
    "tup2 = (50,)\n",
    "print(type(tup2))\n",
    "tup3 = ('Dog', 'cat', 1997, 2000)\n",
    "tup4 = (1, 2, 3, 4, 5 )\n",
    "\n",
    "#tuplea = \"a\", \"b\", \"c\", \"d\";\n",
    "#type(tuplea)"
   ]
  },
  {
   "cell_type": "code",
   "execution_count": 80,
   "metadata": {},
   "outputs": [
    {
     "name": "stdout",
     "output_type": "stream",
     "text": [
      "('Dog', 'cat', 1997, 2000)\n",
      "tup3[0]: Dog\n",
      "tup4[1:5]: (2, 3, 4, 5)\n"
     ]
    }
   ],
   "source": [
    "print(tup3)\n",
    "print (\"tup3[0]:\", tup3[0])\n",
    "print (\"tup4[1:5]:\", tup4[1:5])"
   ]
  },
  {
   "cell_type": "code",
   "execution_count": 81,
   "metadata": {},
   "outputs": [
    {
     "ename": "TypeError",
     "evalue": "'tuple' object does not support item assignment",
     "output_type": "error",
     "traceback": [
      "\u001b[1;31m---------------------------------------------------------------------------\u001b[0m",
      "\u001b[1;31mTypeError\u001b[0m                                 Traceback (most recent call last)",
      "\u001b[1;32m<ipython-input-81-882cd4ae20cf>\u001b[0m in \u001b[0;36m<module>\u001b[1;34m()\u001b[0m\n\u001b[1;32m----> 1\u001b[1;33m \u001b[0mtup3\u001b[0m\u001b[1;33m[\u001b[0m\u001b[1;36m0\u001b[0m\u001b[1;33m]\u001b[0m \u001b[1;33m=\u001b[0m \u001b[1;36m1\u001b[0m \u001b[1;31m#與list相似,但無法更改元素 佔用空間較少\u001b[0m\u001b[1;33m\u001b[0m\u001b[0m\n\u001b[0m",
      "\u001b[1;31mTypeError\u001b[0m: 'tuple' object does not support item assignment"
     ]
    }
   ],
   "source": [
    "tup3[0] = 1 #與list相似,但無法更改元素 佔用空間較少"
   ]
  },
  {
   "cell_type": "code",
   "execution_count": 82,
   "metadata": {},
   "outputs": [
    {
     "data": {
      "text/plain": [
       "('Dog', 'cat', 1997, 2000, 1, 2, 3, 4, 5)"
      ]
     },
     "execution_count": 82,
     "metadata": {},
     "output_type": "execute_result"
    }
   ],
   "source": [
    "tup5 = tup3 + tup4\n",
    "tup5"
   ]
  },
  {
   "cell_type": "markdown",
   "metadata": {},
   "source": [
    "#### 刪除Tuple"
   ]
  },
  {
   "cell_type": "code",
   "execution_count": 83,
   "metadata": {},
   "outputs": [],
   "source": [
    "del tup3"
   ]
  },
  {
   "cell_type": "markdown",
   "metadata": {},
   "source": [
    "#### 計算Tuple中元素數目"
   ]
  },
  {
   "cell_type": "code",
   "execution_count": 84,
   "metadata": {},
   "outputs": [
    {
     "data": {
      "text/plain": [
       "7"
      ]
     },
     "execution_count": 84,
     "metadata": {},
     "output_type": "execute_result"
    }
   ],
   "source": [
    "len((1, 2, 3, 4, 5 ,7,4))"
   ]
  },
  {
   "cell_type": "markdown",
   "metadata": {},
   "source": [
    "#### 回傳Tuple中最大的元素\n"
   ]
  },
  {
   "cell_type": "code",
   "execution_count": 85,
   "metadata": {},
   "outputs": [
    {
     "data": {
      "text/plain": [
       "5"
      ]
     },
     "execution_count": 85,
     "metadata": {},
     "output_type": "execute_result"
    }
   ],
   "source": [
    "max((1, 2, 3, 4, 5 ))"
   ]
  },
  {
   "cell_type": "markdown",
   "metadata": {},
   "source": [
    "#### 回傳Tuple中最小的元素"
   ]
  },
  {
   "cell_type": "code",
   "execution_count": 86,
   "metadata": {},
   "outputs": [
    {
     "data": {
      "text/plain": [
       "1"
      ]
     },
     "execution_count": 86,
     "metadata": {},
     "output_type": "execute_result"
    }
   ],
   "source": [
    "min((1, 2, 3, 4, 5 ))"
   ]
  },
  {
   "cell_type": "markdown",
   "metadata": {},
   "source": [
    "#### 判斷成員是否在Tuple中"
   ]
  },
  {
   "cell_type": "code",
   "execution_count": 87,
   "metadata": {},
   "outputs": [
    {
     "name": "stdout",
     "output_type": "stream",
     "text": [
      "True\n",
      "True\n"
     ]
    }
   ],
   "source": [
    "print(3 in (1,2,3,4))\n",
    "print('cat' in ('Apple',2,'cat',4))"
   ]
  },
  {
   "cell_type": "markdown",
   "metadata": {},
   "source": [
    "#### Tuple 串聯\n"
   ]
  },
  {
   "cell_type": "code",
   "execution_count": 88,
   "metadata": {},
   "outputs": [
    {
     "data": {
      "text/plain": [
       "(1, 2, 3, 4, 5, 6)"
      ]
     },
     "execution_count": 88,
     "metadata": {},
     "output_type": "execute_result"
    }
   ],
   "source": [
    "tuple1 = (1, 2, 3)\n",
    "tuple2 = (4, 5, 6)\n",
    "tuple1+tuple2"
   ]
  },
  {
   "cell_type": "markdown",
   "metadata": {},
   "source": [
    "#### Tuple 重複"
   ]
  },
  {
   "cell_type": "code",
   "execution_count": 90,
   "metadata": {},
   "outputs": [
    {
     "data": {
      "text/plain": [
       "(1, 2, 3, 1, 2, 3, 1, 2, 3)"
      ]
     },
     "execution_count": 90,
     "metadata": {},
     "output_type": "execute_result"
    }
   ],
   "source": [
    "tuple1 = (1, 2, 3)\n",
    "tuple1*3"
   ]
  },
  {
   "cell_type": "markdown",
   "metadata": {},
   "source": [
    "## 4.3 字典 (Dictionary)\n",
    "* dict = { key1 : value1, key2 : value2 }"
   ]
  },
  {
   "cell_type": "code",
   "execution_count": 91,
   "metadata": {},
   "outputs": [
    {
     "name": "stdout",
     "output_type": "stream",
     "text": [
      "dict['Course']:  計算機概論\n",
      "dict['Credit']:  2\n"
     ]
    }
   ],
   "source": [
    "dict ={}\n",
    "dict = {'Course': '計算機概論', 'Teacher': 'Nick', 'Class': '1A', 'Credit' :2}\n",
    "print (\"dict['Course']: \", dict['Course'])\n",
    "print (\"dict['Credit']: \", dict['Credit'])"
   ]
  },
  {
   "cell_type": "markdown",
   "metadata": {},
   "source": [
    "#### 更新字典"
   ]
  },
  {
   "cell_type": "code",
   "execution_count": 92,
   "metadata": {},
   "outputs": [
    {
     "name": "stdout",
     "output_type": "stream",
     "text": [
      "{'Teacher': 'David', 'Course': '計算機概論', 'Credit': 2, 'Department': '資管系', 'Class': '1A'}\n"
     ]
    }
   ],
   "source": [
    "dict = {'Course': '計算機概論', 'Teacher': 'Nick', 'Class': '1A', 'Credit' :2}\n",
    "\n",
    "dict['Teacher'] = 'David'\n",
    "dict['Department'] = '資管系'\n",
    "print (dict)"
   ]
  },
  {
   "cell_type": "code",
   "execution_count": 93,
   "metadata": {},
   "outputs": [
    {
     "name": "stdout",
     "output_type": "stream",
     "text": [
      "{'version': '7.2', 'name': 'php'}\n",
      "{'version': '7.2', 'name': 'php'}\n"
     ]
    }
   ],
   "source": [
    "dict1 = {\n",
    "    'name': 'python',\n",
    "    'version': '3.5'\n",
    "}\n",
    "\n",
    "dict2 = {\n",
    "    'name': 'php',\n",
    "    'version': '7.2'\n",
    "}\n",
    "\n",
    "dict1.update(dict2)\n",
    "print(dict1)\n",
    "print(dict2)"
   ]
  },
  {
   "cell_type": "code",
   "execution_count": 94,
   "metadata": {},
   "outputs": [
    {
     "name": "stdout",
     "output_type": "stream",
     "text": [
      "{'Teacher': 'David', 'Credit': 2, 'Class': '1A', 'Course': '計算機概論'}\n",
      "{}\n"
     ]
    }
   ],
   "source": [
    "dict = {'Credit': 2, 'Course': '計算機概論', 'Department': '資管系', 'Teacher': 'David', 'Class': '1A'}\n",
    "\n",
    "# 删除字典 / 元素\n",
    "del dict['Department'];\n",
    "print(dict)\n",
    "\n",
    "# 清空字典內所有元素\n",
    "dict.clear() \n",
    "print(dict)"
   ]
  },
  {
   "cell_type": "code",
   "execution_count": 95,
   "metadata": {},
   "outputs": [
    {
     "data": {
      "text/plain": [
       "4"
      ]
     },
     "execution_count": 95,
     "metadata": {},
     "output_type": "execute_result"
    }
   ],
   "source": [
    "#計算字典個素 len()\n",
    "dict1 = {'Course': '計算機概論', 'Teacher': 'Nick', 'Class': '1A', 'Credit' :2}\n",
    "len(dict1)"
   ]
  },
  {
   "cell_type": "code",
   "execution_count": 96,
   "metadata": {},
   "outputs": [
    {
     "data": {
      "text/plain": [
       "True"
      ]
     },
     "execution_count": 96,
     "metadata": {},
     "output_type": "execute_result"
    }
   ],
   "source": [
    "# 判斷字典是否有某鍵值\n",
    "dict1 = {'Course': '計算機概論', 'Teacher': 'Nick', 'Class': '1A', 'Credit' :2}\n",
    "dict1.__contains__('Course')"
   ]
  },
  {
   "cell_type": "code",
   "execution_count": 97,
   "metadata": {},
   "outputs": [
    {
     "data": {
      "text/plain": [
       "dict_keys(['Teacher', 'Course', 'Credit', 'Class'])"
      ]
     },
     "execution_count": 97,
     "metadata": {},
     "output_type": "execute_result"
    }
   ],
   "source": [
    "#顯示字典所有鍵值\n",
    "dict1 = {'Course': '計算機概論', 'Teacher': 'Nick', 'Class': '1A', 'Credit' :2}\n",
    "dict1.keys()"
   ]
  },
  {
   "cell_type": "code",
   "execution_count": 98,
   "metadata": {},
   "outputs": [
    {
     "data": {
      "text/plain": [
       "{'Class': '1A', 'Course': '計算機概論', 'Credit': 2}"
      ]
     },
     "execution_count": 98,
     "metadata": {},
     "output_type": "execute_result"
    }
   ],
   "source": [
    "#隨機pop一個鍵值\n",
    "dict1 = {'Course': '計算機概論', 'Teacher': 'Nick', 'Class': '1A', 'Credit' :2}\n",
    "dict1.popitem() # 隨機pop一個鍵值\n",
    "dict1"
   ]
  },
  {
   "cell_type": "code",
   "execution_count": 99,
   "metadata": {},
   "outputs": [
    {
     "data": {
      "text/plain": [
       "{'Class': '1A', 'Course': '計算機概論', 'Credit': 2}"
      ]
     },
     "execution_count": 99,
     "metadata": {},
     "output_type": "execute_result"
    }
   ],
   "source": [
    "# pop某一個key\n",
    "dict1 = {'Course': '計算機概論', 'Teacher': 'Nick', 'Class': '1A', 'Credit' :2}\n",
    "dict1.pop('Teacher') # pop某一個key\n",
    "dict1"
   ]
  },
  {
   "cell_type": "markdown",
   "metadata": {},
   "source": [
    "## 4.4集合 (Set)\n",
    "* 類似數學集合"
   ]
  },
  {
   "cell_type": "code",
   "execution_count": 100,
   "metadata": {},
   "outputs": [
    {
     "data": {
      "text/plain": [
       "set"
      ]
     },
     "execution_count": 100,
     "metadata": {},
     "output_type": "execute_result"
    }
   ],
   "source": [
    "animals = set()\n",
    "\n",
    "animals= {'cat', 'dog', 'bee', 'panda'}\n",
    "animals\n",
    "type(animals)"
   ]
  },
  {
   "cell_type": "code",
   "execution_count": 101,
   "metadata": {},
   "outputs": [
    {
     "name": "stdout",
     "output_type": "stream",
     "text": [
      "{'c', 'a', 't'}\n",
      "{'bee', 'dog'}\n",
      "{'cat', 'panda'}\n"
     ]
    }
   ],
   "source": [
    "print(set('cat'))\n",
    "print(set(['dog', 'bee']))\n",
    "print(set(('panda', 'cat')))"
   ]
  },
  {
   "cell_type": "code",
   "execution_count": 102,
   "metadata": {},
   "outputs": [
    {
     "name": "stdout",
     "output_type": "stream",
     "text": [
      "{'cat', 'panda'}\n",
      "{'panda', 'bee', 'dog', 'cat', 'bird', 'ant'}\n",
      "{'dog', 'bee'}\n"
     ]
    }
   ],
   "source": [
    "animals1 = {'cat', 'dog', 'bee', 'panda'}\n",
    "animals2 = {'cat', 'ant', 'bird', 'panda'}\n",
    "print(animals1.intersection(animals2)) \n",
    "print(animals1.union(animals2)) \n",
    "print(animals1.difference(animals2))"
   ]
  },
  {
   "cell_type": "code",
   "execution_count": null,
   "metadata": {},
   "outputs": [],
   "source": []
  },
  {
   "cell_type": "markdown",
   "metadata": {},
   "source": [
    "## 5. 函數(Function) & 模組 (Modules)"
   ]
  },
  {
   "cell_type": "markdown",
   "metadata": {},
   "source": [
    "## 5.1 函數(Function) "
   ]
  },
  {
   "cell_type": "markdown",
   "metadata": {},
   "source": [
    "#### 自建函數"
   ]
  },
  {
   "cell_type": "code",
   "execution_count": 104,
   "metadata": {},
   "outputs": [
    {
     "name": "stdout",
     "output_type": "stream",
     "text": [
      "Hello World!\n"
     ]
    }
   ],
   "source": [
    "def hello() :\n",
    "    print(\"Hello World!\")\n",
    "\n",
    "hello()"
   ]
  },
  {
   "cell_type": "markdown",
   "metadata": {},
   "source": [
    "#### 自建函數(傳遞參數)"
   ]
  },
  {
   "cell_type": "code",
   "execution_count": 105,
   "metadata": {},
   "outputs": [
    {
     "name": "stdout",
     "output_type": "stream",
     "text": [
      "I'm Nick !\n"
     ]
    }
   ],
   "source": [
    "def printme( str ):\n",
    "    print (str)\n",
    "\n",
    "printme(\"I'm Nick !\")"
   ]
  },
  {
   "cell_type": "code",
   "execution_count": 106,
   "metadata": {},
   "outputs": [
    {
     "name": "stdout",
     "output_type": "stream",
     "text": [
      "I am David\n",
      "I am Nick\n"
     ]
    }
   ],
   "source": [
    "# Default Parameter Value\n",
    "\n",
    "def printme( name = 'Nick'):\n",
    "    print (\"I am \" + name)\n",
    "    \n",
    "\n",
    "printme(\"David\")\n",
    "printme()"
   ]
  },
  {
   "cell_type": "markdown",
   "metadata": {},
   "source": [
    "#### 全域變數"
   ]
  },
  {
   "cell_type": "code",
   "execution_count": 107,
   "metadata": {},
   "outputs": [
    {
     "name": "stdout",
     "output_type": "stream",
     "text": [
      "10\n",
      "123\n",
      "123\n"
     ]
    }
   ],
   "source": [
    "num = 10\n",
    "def functionA():\n",
    "    global num \n",
    "    print(num) \n",
    "    num = 123\n",
    "    print(num)\n",
    "functionA()\n",
    "print(num)"
   ]
  },
  {
   "cell_type": "markdown",
   "metadata": {},
   "source": [
    "#### 回傳值"
   ]
  },
  {
   "cell_type": "code",
   "execution_count": 108,
   "metadata": {},
   "outputs": [
    {
     "name": "stdout",
     "output_type": "stream",
     "text": [
      "10\n",
      "20\n",
      "30\n"
     ]
    }
   ],
   "source": [
    "def functionA(x):\n",
    "    return 10 * x\n",
    "\n",
    "print(functionA(1))\n",
    "print(functionA(2))\n",
    "print(functionA(3))"
   ]
  },
  {
   "cell_type": "code",
   "execution_count": 109,
   "metadata": {},
   "outputs": [
    {
     "name": "stdout",
     "output_type": "stream",
     "text": [
      "False\n",
      "True\n",
      "True\n"
     ]
    }
   ],
   "source": [
    "def functionA(x):\n",
    "    return True if x >15 else False\n",
    "\n",
    "print(functionA(10))\n",
    "print(functionA(20))\n",
    "print(functionA(30))"
   ]
  },
  {
   "cell_type": "markdown",
   "metadata": {},
   "source": [
    "## 5.2 lambda"
   ]
  },
  {
   "cell_type": "code",
   "execution_count": 111,
   "metadata": {},
   "outputs": [
    {
     "name": "stdout",
     "output_type": "stream",
     "text": [
      "25\n"
     ]
    }
   ],
   "source": [
    "def functionA(a,b):\n",
    "    return a + b + 10\n",
    "\n",
    "print(functionA(5,10))"
   ]
  },
  {
   "cell_type": "code",
   "execution_count": 112,
   "metadata": {},
   "outputs": [
    {
     "name": "stdout",
     "output_type": "stream",
     "text": [
      "25\n"
     ]
    }
   ],
   "source": [
    "x = lambda a,b : a + b + 10\n",
    "print(x(5,10))"
   ]
  },
  {
   "cell_type": "code",
   "execution_count": 114,
   "metadata": {},
   "outputs": [
    {
     "name": "stdout",
     "output_type": "stream",
     "text": [
      "10\n"
     ]
    }
   ],
   "source": [
    "def functionA(a,b):\n",
    "    return a if a >b else b\n",
    "\n",
    "print(functionA(5,10))"
   ]
  },
  {
   "cell_type": "code",
   "execution_count": 115,
   "metadata": {},
   "outputs": [
    {
     "name": "stdout",
     "output_type": "stream",
     "text": [
      "10\n"
     ]
    }
   ],
   "source": [
    "x = lambda a,b : a if a >b else b\n",
    "print(x(5,10))"
   ]
  },
  {
   "cell_type": "markdown",
   "metadata": {},
   "source": [
    "## 5.3 模組 (Modules)"
   ]
  },
  {
   "cell_type": "markdown",
   "metadata": {},
   "source": [
    "#### import module\n",
    "import module1[, module2[,... moduleN]"
   ]
  },
  {
   "cell_type": "code",
   "execution_count": 117,
   "metadata": {},
   "outputs": [],
   "source": [
    "import support"
   ]
  },
  {
   "cell_type": "code",
   "execution_count": 118,
   "metadata": {},
   "outputs": [
    {
     "name": "stdout",
     "output_type": "stream",
     "text": [
      "Hello,   Nick\n"
     ]
    }
   ],
   "source": [
    "support.print_func(\"Nick\")"
   ]
  },
  {
   "cell_type": "code",
   "execution_count": 119,
   "metadata": {},
   "outputs": [
    {
     "data": {
      "text/plain": [
       "50"
      ]
     },
     "execution_count": 119,
     "metadata": {},
     "output_type": "execute_result"
    }
   ],
   "source": [
    "support.add_func(30,20)"
   ]
  },
  {
   "cell_type": "code",
   "execution_count": 120,
   "metadata": {},
   "outputs": [
    {
     "data": {
      "text/plain": [
       "15"
      ]
     },
     "execution_count": 120,
     "metadata": {},
     "output_type": "execute_result"
    }
   ],
   "source": [
    "support.sub_func(20,5)"
   ]
  },
  {
   "cell_type": "markdown",
   "metadata": {},
   "source": [
    "#### from … import\n",
    "from modname import name1[, name2[, ... nameN]]"
   ]
  },
  {
   "cell_type": "code",
   "execution_count": 121,
   "metadata": {},
   "outputs": [
    {
     "data": {
      "text/plain": [
       "30"
      ]
     },
     "execution_count": 121,
     "metadata": {},
     "output_type": "execute_result"
    }
   ],
   "source": [
    "from support import add_func\n",
    "add_func(10,20)"
   ]
  },
  {
   "cell_type": "code",
   "execution_count": 123,
   "metadata": {},
   "outputs": [
    {
     "name": "stdout",
     "output_type": "stream",
     "text": [
      "30\n",
      "-10\n"
     ]
    }
   ],
   "source": [
    "from support import add_func as add ,sub_func as sub\n",
    "print(add(10,20))\n",
    "print(sub(10,20))"
   ]
  },
  {
   "cell_type": "markdown",
   "metadata": {},
   "source": [
    "## 06 Python日期時間 Date / Time\n",
    "* 時間間隔為浮點數以秒為單位的數字。在特定的時間瞬間自上午12時00分，1970年1月1日(紀元)表示，單位為秒\n",
    "\n",
    "* datetime、time、calendar"
   ]
  },
  {
   "cell_type": "markdown",
   "metadata": {},
   "source": [
    "#### Python時間模組datetime\\time,轉義符對應意義\n",
    "%a 本地簡化星期名稱\n",
    "\n",
    "%A 本地完整星期名稱\n",
    "\n",
    "%b 本地簡化的月份名稱\n",
    "\n",
    "%B 本地完整的月份名稱\n",
    "\n",
    "%c 本地相應的日期表示和時間表示\n",
    "\n",
    "%d 月內中的一天（0-31）\n",
    "\n",
    "%H 24小時制小時數（0-23）\n",
    "\n",
    "%I 12小時制小時數（01-12）\n",
    "\n",
    "%j 年內的一天（001-366）\n",
    "\n",
    "%m 月份（01-12）\n",
    "\n",
    "%M 分鐘數（00=59）\n",
    "\n",
    "%p 本地A.M.或P.M.的等價符\n",
    "\n",
    "%S 秒（00-59）\n",
    "\n",
    "%U 一年中的星期數（00-53）星期天為星期的開始\n",
    "\n",
    "%w 星期（0-6），星期天為星期的開始\n",
    "\n",
    "%W 一年中的星期數（00-53）星期一為星期的開始\n",
    "\n",
    "%x 本地相應的日期表示\n",
    "\n",
    "%X 本地相應的時間表示\n",
    "\n",
    "%y 兩位數的年份表示（00-99）\n",
    "\n",
    "%Y 四位數的年份表示（000-9999）\n",
    "\n",
    "%Z 當前時區的名稱\n",
    "\n",
    "%% %號本身"
   ]
  },
  {
   "cell_type": "markdown",
   "metadata": {},
   "source": [
    "## 6.1 Time Module"
   ]
  },
  {
   "cell_type": "code",
   "execution_count": 125,
   "metadata": {},
   "outputs": [],
   "source": [
    "import time;"
   ]
  },
  {
   "cell_type": "code",
   "execution_count": 126,
   "metadata": {},
   "outputs": [
    {
     "name": "stdout",
     "output_type": "stream",
     "text": [
      "Number of ticks since 12:00am, January 1, 1970: 1564466012.5604446\n"
     ]
    }
   ],
   "source": [
    "ticks = time.time()\n",
    "print(\"Number of ticks since 12:00am, January 1, 1970:\", ticks)"
   ]
  },
  {
   "cell_type": "markdown",
   "metadata": {},
   "source": [
    "#### 獲取當前時間"
   ]
  },
  {
   "cell_type": "code",
   "execution_count": 127,
   "metadata": {},
   "outputs": [
    {
     "name": "stdout",
     "output_type": "stream",
     "text": [
      "Local current time : time.struct_time(tm_year=2019, tm_mon=7, tm_mday=30, tm_hour=13, tm_min=53, tm_sec=47, tm_wday=1, tm_yday=211, tm_isdst=0)\n"
     ]
    }
   ],
   "source": [
    "localtime = time.localtime(time.time())\n",
    "\n",
    "print(\"Local current time :\", localtime)"
   ]
  },
  {
   "cell_type": "markdown",
   "metadata": {},
   "source": [
    "#### 獲取格式化的時間"
   ]
  },
  {
   "cell_type": "code",
   "execution_count": 129,
   "metadata": {},
   "outputs": [
    {
     "name": "stdout",
     "output_type": "stream",
     "text": [
      "Local current time : Tue Jul 30 13:54:04 2019\n"
     ]
    }
   ],
   "source": [
    "localtime = time.asctime( time.localtime(time.time()) )\n",
    "print(\"Local current time :\", localtime)"
   ]
  },
  {
   "cell_type": "markdown",
   "metadata": {},
   "source": [
    "## 6.2 Calendar module"
   ]
  },
  {
   "cell_type": "markdown",
   "metadata": {},
   "source": [
    "#### 獲取日曆月份"
   ]
  },
  {
   "cell_type": "code",
   "execution_count": 18,
   "metadata": {},
   "outputs": [
    {
     "name": "stdout",
     "output_type": "stream",
     "text": [
      "Here is the calendar:\n",
      "    August 2019\n",
      "Mo Tu We Th Fr Sa Su\n",
      "          1  2  3  4\n",
      " 5  6  7  8  9 10 11\n",
      "12 13 14 15 16 17 18\n",
      "19 20 21 22 23 24 25\n",
      "26 27 28 29 30 31\n",
      "\n"
     ]
    }
   ],
   "source": [
    "import calendar\n",
    "\n",
    "cal = calendar.month(2019, 8)\n",
    "print(\"Here is the calendar:\")\n",
    "print(cal)"
   ]
  },
  {
   "cell_type": "code",
   "execution_count": 29,
   "metadata": {},
   "outputs": [
    {
     "name": "stdout",
     "output_type": "stream",
     "text": [
      "Here is the calendar:\n",
      "    August 2019\n",
      "Su Mo Tu We Th Fr Sa\n",
      "             1  2  3\n",
      " 4  5  6  7  8  9 10\n",
      "11 12 13 14 15 16 17\n",
      "18 19 20 21 22 23 24\n",
      "25 26 27 28 29 30 31\n",
      "\n"
     ]
    }
   ],
   "source": [
    "# 設定日曆的第一天\n",
    "cal = calendar.month(2019, 8)\n",
    "print(\"Here is the calendar:\")\n",
    "\n",
    "calendar.setfirstweekday(calendar.SUNDAY) \n",
    "cal = calendar.month(2019, 8)\n",
    "print(cal)\n"
   ]
  },
  {
   "cell_type": "code",
   "execution_count": 32,
   "metadata": {},
   "outputs": [
    {
     "name": "stdout",
     "output_type": "stream",
     "text": [
      "                                  2019\n",
      "\n",
      "      January                   February                   March\n",
      "Su Mo Tu We Th Fr Sa      Su Mo Tu We Th Fr Sa      Su Mo Tu We Th Fr Sa\n",
      "       1  2  3  4  5                      1  2                      1  2\n",
      " 6  7  8  9 10 11 12       3  4  5  6  7  8  9       3  4  5  6  7  8  9\n",
      "13 14 15 16 17 18 19      10 11 12 13 14 15 16      10 11 12 13 14 15 16\n",
      "20 21 22 23 24 25 26      17 18 19 20 21 22 23      17 18 19 20 21 22 23\n",
      "27 28 29 30 31            24 25 26 27 28            24 25 26 27 28 29 30\n",
      "                                                    31\n",
      "\n",
      "       April                      May                       June\n",
      "Su Mo Tu We Th Fr Sa      Su Mo Tu We Th Fr Sa      Su Mo Tu We Th Fr Sa\n",
      "    1  2  3  4  5  6                1  2  3  4                         1\n",
      " 7  8  9 10 11 12 13       5  6  7  8  9 10 11       2  3  4  5  6  7  8\n",
      "14 15 16 17 18 19 20      12 13 14 15 16 17 18       9 10 11 12 13 14 15\n",
      "21 22 23 24 25 26 27      19 20 21 22 23 24 25      16 17 18 19 20 21 22\n",
      "28 29 30                  26 27 28 29 30 31         23 24 25 26 27 28 29\n",
      "                                                    30\n",
      "\n",
      "        July                     August                  September\n",
      "Su Mo Tu We Th Fr Sa      Su Mo Tu We Th Fr Sa      Su Mo Tu We Th Fr Sa\n",
      "    1  2  3  4  5  6                   1  2  3       1  2  3  4  5  6  7\n",
      " 7  8  9 10 11 12 13       4  5  6  7  8  9 10       8  9 10 11 12 13 14\n",
      "14 15 16 17 18 19 20      11 12 13 14 15 16 17      15 16 17 18 19 20 21\n",
      "21 22 23 24 25 26 27      18 19 20 21 22 23 24      22 23 24 25 26 27 28\n",
      "28 29 30 31               25 26 27 28 29 30 31      29 30\n",
      "\n",
      "      October                   November                  December\n",
      "Su Mo Tu We Th Fr Sa      Su Mo Tu We Th Fr Sa      Su Mo Tu We Th Fr Sa\n",
      "       1  2  3  4  5                      1  2       1  2  3  4  5  6  7\n",
      " 6  7  8  9 10 11 12       3  4  5  6  7  8  9       8  9 10 11 12 13 14\n",
      "13 14 15 16 17 18 19      10 11 12 13 14 15 16      15 16 17 18 19 20 21\n",
      "20 21 22 23 24 25 26      17 18 19 20 21 22 23      22 23 24 25 26 27 28\n",
      "27 28 29 30 31            24 25 26 27 28 29 30      29 30 31\n",
      "\n"
     ]
    }
   ],
   "source": [
    "# 獲取一年的日曆\n",
    "cal = calendar.calendar(2019)\n",
    "print (cal)"
   ]
  },
  {
   "cell_type": "code",
   "execution_count": 30,
   "metadata": {},
   "outputs": [
    {
     "name": "stdout",
     "output_type": "stream",
     "text": [
      "<table border=\"0\" cellpadding=\"0\" cellspacing=\"0\" class=\"month\">\n",
      "<tr><th colspan=\"7\" class=\"month\">August 2019</th></tr>\n",
      "<tr><th class=\"mon\">Mon</th><th class=\"tue\">Tue</th><th class=\"wed\">Wed</th><th class=\"thu\">Thu</th><th class=\"fri\">Fri</th><th class=\"sat\">Sat</th><th class=\"sun\">Sun</th></tr>\n",
      "<tr><td class=\"noday\">&nbsp;</td><td class=\"noday\">&nbsp;</td><td class=\"noday\">&nbsp;</td><td class=\"thu\">1</td><td class=\"fri\">2</td><td class=\"sat\">3</td><td class=\"sun\">4</td></tr>\n",
      "<tr><td class=\"mon\">5</td><td class=\"tue\">6</td><td class=\"wed\">7</td><td class=\"thu\">8</td><td class=\"fri\">9</td><td class=\"sat\">10</td><td class=\"sun\">11</td></tr>\n",
      "<tr><td class=\"mon\">12</td><td class=\"tue\">13</td><td class=\"wed\">14</td><td class=\"thu\">15</td><td class=\"fri\">16</td><td class=\"sat\">17</td><td class=\"sun\">18</td></tr>\n",
      "<tr><td class=\"mon\">19</td><td class=\"tue\">20</td><td class=\"wed\">21</td><td class=\"thu\">22</td><td class=\"fri\">23</td><td class=\"sat\">24</td><td class=\"sun\">25</td></tr>\n",
      "<tr><td class=\"mon\">26</td><td class=\"tue\">27</td><td class=\"wed\">28</td><td class=\"thu\">29</td><td class=\"fri\">30</td><td class=\"sat\">31</td><td class=\"noday\">&nbsp;</td></tr>\n",
      "</table>\n",
      "\n"
     ]
    }
   ],
   "source": [
    "cal = calendar.HTMLCalendar(calendar.MONDAY)\n",
    "print (cal.formatmonth(2019, 8))"
   ]
  },
  {
   "cell_type": "code",
   "execution_count": 46,
   "metadata": {},
   "outputs": [
    {
     "name": "stdout",
     "output_type": "stream",
     "text": [
      "True\n",
      "False\n"
     ]
    }
   ],
   "source": [
    "# 判斷是否閏年\n",
    "print(calendar.isleap(2016))\n",
    "print(calendar.isleap(2019))\n"
   ]
  },
  {
   "cell_type": "code",
   "execution_count": 45,
   "metadata": {},
   "outputs": [
    {
     "name": "stdout",
     "output_type": "stream",
     "text": [
      "2\n"
     ]
    }
   ],
   "source": [
    "#兩個年份之間閏年的個數\n",
    "print(calendar.leapdays(2012, 2019))\n"
   ]
  },
  {
   "cell_type": "markdown",
   "metadata": {},
   "source": [
    "## 6.3 Datetime module"
   ]
  },
  {
   "cell_type": "code",
   "execution_count": 1,
   "metadata": {},
   "outputs": [],
   "source": [
    "import datetime"
   ]
  },
  {
   "cell_type": "code",
   "execution_count": 4,
   "metadata": {},
   "outputs": [
    {
     "name": "stdout",
     "output_type": "stream",
     "text": [
      "2019-08-01 03:16:48.221780\n",
      "2019-08-01\n"
     ]
    }
   ],
   "source": [
    "# 獲取當天的日期\n",
    "print (datetime.datetime.now())\n",
    "print (datetime.date.today())"
   ]
  },
  {
   "cell_type": "code",
   "execution_count": 11,
   "metadata": {},
   "outputs": [
    {
     "name": "stdout",
     "output_type": "stream",
     "text": [
      "2019-08-01 <class 'datetime.date'>\n",
      "1 day, 0:00:00 <class 'datetime.date'>\n",
      "昨天的日期： 2019-07-31\n"
     ]
    }
   ],
   "source": [
    "# 獲取昨天的日期\n",
    "def getYesterday():\n",
    "    today = datetime.date.today()\n",
    "    oneday = datetime.timedelta(days=1) #代表兩個時間之間的時間差\n",
    "    yesterday = today - oneday\n",
    "    print (today,type(today))  # 檢視獲取到時間的型別\n",
    "    print (oneday,type(yesterday))\n",
    "    return yesterday\n",
    "\n",
    "yesterday = getYesterday()\n",
    "print(\"昨天的日期：\", yesterday)"
   ]
  },
  {
   "cell_type": "code",
   "execution_count": 14,
   "metadata": {},
   "outputs": [
    {
     "name": "stdout",
     "output_type": "stream",
     "text": [
      "2019-08-01\n",
      "2019-08-01 00:00:00\n",
      "2019-08-01 03:24:37\n",
      "7 days, 0:00:00\n"
     ]
    }
   ],
   "source": [
    "# 字串轉換為時間\n",
    "import time\n",
    "def strTodatetime(datestr, format):\n",
    "    return datetime.datetime.strptime(datestr, format)\n",
    "\n",
    "print(time.strftime(\"%Y-%m-%d\", time.localtime()))\n",
    "print(strTodatetime(\"2019-8-1\",\"%Y-%m-%d\"))\n",
    "print(time.strftime(\"%Y-%m-%d %H:%M:%S\", time.localtime()))\n",
    "print(strTodatetime(\"2019-8-1\",\"%Y-%m-%d\")-strTodatetime(\"2019-7-25\",\"%Y-%m-%d\"))"
   ]
  },
  {
   "cell_type": "code",
   "execution_count": null,
   "metadata": {},
   "outputs": [],
   "source": []
  },
  {
   "cell_type": "code",
   "execution_count": null,
   "metadata": {},
   "outputs": [],
   "source": []
  },
  {
   "cell_type": "code",
   "execution_count": null,
   "metadata": {},
   "outputs": [],
   "source": []
  },
  {
   "cell_type": "code",
   "execution_count": null,
   "metadata": {},
   "outputs": [],
   "source": []
  },
  {
   "cell_type": "markdown",
   "metadata": {},
   "source": [
    "## Exercise"
   ]
  },
  {
   "cell_type": "markdown",
   "metadata": {},
   "source": [
    "### Exercise 1 "
   ]
  },
  {
   "cell_type": "markdown",
   "metadata": {},
   "source": [
    "計算元素在列表中出現的次數\n",
    "\n",
    "Input : lst = [12, 16, 55, 1, 12, 22, 33, 12, 10] <br>\n",
    "        target = 12<br>\n",
    "Output: 3"
   ]
  },
  {
   "cell_type": "markdown",
   "metadata": {},
   "source": [
    "Ans:"
   ]
  },
  {
   "cell_type": "markdown",
   "metadata": {},
   "source": [
    "### Exercise 2"
   ]
  },
  {
   "cell_type": "markdown",
   "metadata": {},
   "source": [
    "計算字典值之總和 <br>\n",
    "\n",
    "dict = {'a': 400, 'b':250, 'c':50}<br> \n",
    "Output : 700"
   ]
  },
  {
   "cell_type": "markdown",
   "metadata": {},
   "source": [
    "Ans:"
   ]
  },
  {
   "cell_type": "code",
   "execution_count": null,
   "metadata": {},
   "outputs": [],
   "source": []
  },
  {
   "cell_type": "code",
   "execution_count": null,
   "metadata": {},
   "outputs": [],
   "source": []
  },
  {
   "cell_type": "code",
   "execution_count": null,
   "metadata": {},
   "outputs": [],
   "source": []
  },
  {
   "cell_type": "code",
   "execution_count": null,
   "metadata": {},
   "outputs": [],
   "source": []
  },
  {
   "cell_type": "code",
   "execution_count": null,
   "metadata": {},
   "outputs": [],
   "source": []
  },
  {
   "cell_type": "code",
   "execution_count": null,
   "metadata": {},
   "outputs": [],
   "source": []
  },
  {
   "cell_type": "code",
   "execution_count": null,
   "metadata": {},
   "outputs": [],
   "source": []
  }
 ],
 "metadata": {
  "kernelspec": {
   "display_name": "Python 3",
   "language": "python",
   "name": "python3"
  },
  "language_info": {
   "codemirror_mode": {
    "name": "ipython",
    "version": 3
   },
   "file_extension": ".py",
   "mimetype": "text/x-python",
   "name": "python",
   "nbconvert_exporter": "python",
   "pygments_lexer": "ipython3",
   "version": "3.5.4"
  }
 },
 "nbformat": 4,
 "nbformat_minor": 2
}
