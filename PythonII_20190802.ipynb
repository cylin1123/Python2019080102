{
 "cells": [
  {
   "cell_type": "markdown",
   "metadata": {},
   "source": [
    "## 07 Input and Output"
   ]
  },
  {
   "cell_type": "markdown",
   "metadata": {},
   "source": [
    "### 使用者輸入資料"
   ]
  },
  {
   "cell_type": "code",
   "execution_count": null,
   "metadata": {},
   "outputs": [],
   "source": [
    "c = input(\"Please input data !\")\n",
    "print(c)    "
   ]
  },
  {
   "cell_type": "code",
   "execution_count": 38,
   "metadata": {},
   "outputs": [
    {
     "name": "stdout",
     "output_type": "stream",
     "text": [
      "20 50\n",
      "20\n",
      "50\n"
     ]
    }
   ],
   "source": [
    "a, b = map(int,input().split())\n",
    "print(a)\n",
    "print(b)"
   ]
  },
  {
   "cell_type": "markdown",
   "metadata": {},
   "source": [
    "### 輸出資料"
   ]
  },
  {
   "cell_type": "code",
   "execution_count": 1,
   "metadata": {},
   "outputs": [
    {
     "name": "stdout",
     "output_type": "stream",
     "text": [
      "10 35\n"
     ]
    }
   ],
   "source": [
    "a = 10 \n",
    "b = 35\n",
    "print(a,b)"
   ]
  },
  {
   "cell_type": "code",
   "execution_count": 4,
   "metadata": {},
   "outputs": [
    {
     "name": "stdout",
     "output_type": "stream",
     "text": [
      "10%35\t10%35\t"
     ]
    }
   ],
   "source": [
    "a = 10 \n",
    "b = 35\n",
    "print(a,b,sep='%',end=\"\\t\")\n",
    "print(a,b,sep='%',end=\"\\t\")"
   ]
  },
  {
   "cell_type": "code",
   "execution_count": 22,
   "metadata": {},
   "outputs": [],
   "source": [
    "print(1, 2, 3, file = open('data.txt', 'w')) #open()函式會開啟檔案，並傳回一個_io.TextIOWrapper物件"
   ]
  },
  {
   "cell_type": "markdown",
   "metadata": {},
   "source": [
    "## 08 Python OS文件/目錄方法"
   ]
  },
  {
   "cell_type": "code",
   "execution_count": 63,
   "metadata": {},
   "outputs": [],
   "source": [
    "import os"
   ]
  },
  {
   "cell_type": "code",
   "execution_count": 64,
   "metadata": {},
   "outputs": [
    {
     "data": {
      "text/plain": [
       "'E:\\\\Nick\\\\Code\\\\python\\\\IBM\\\\PythonBasic_2019080102'"
      ]
     },
     "execution_count": 64,
     "metadata": {},
     "output_type": "execute_result"
    }
   ],
   "source": [
    "#取得當前目錄路徑\n",
    "os.getcwd()"
   ]
  },
  {
   "cell_type": "code",
   "execution_count": 65,
   "metadata": {},
   "outputs": [
    {
     "data": {
      "text/plain": [
       "['## Exercise.ipynb',\n",
       " '.git',\n",
       " '.ipynb_checkpoints',\n",
       " '02. DataType.ipynb',\n",
       " '03 Condition & Loop Control.ipynb',\n",
       " '04 Data Structure.ipynb',\n",
       " '05 Funciton and Modules .ipynb',\n",
       " '06 Date and Time.ipynb',\n",
       " '07 Input and Output.ipynb',\n",
       " '08 OS.ipynb',\n",
       " '09 FILE.ipynb',\n",
       " '10 Errors and Cxception.ipynb',\n",
       " '11 Object and Class.ipynb',\n",
       " '12 Thread.ipynb',\n",
       " 'aaa.txt',\n",
       " 'data',\n",
       " 'data.txt',\n",
       " 'movies.xml',\n",
       " 'Python3.ipynb',\n",
       " 'PythonII_20190802.ipynb',\n",
       " 'PythonI_20190801.ipynb',\n",
       " 'README.md',\n",
       " 'support.py',\n",
       " 'test',\n",
       " 'Untitled.ipynb',\n",
       " 'Untitled1.ipynb',\n",
       " '__pycache__']"
      ]
     },
     "execution_count": 65,
     "metadata": {},
     "output_type": "execute_result"
    }
   ],
   "source": [
    "#列出某路徑資料夾底下所有檔案清單\n",
    "#os.listdir(\"~/\")\n",
    "os.listdir(os.getcwd())"
   ]
  },
  {
   "cell_type": "code",
   "execution_count": 66,
   "metadata": {},
   "outputs": [],
   "source": [
    "#新增資料夾\n",
    "os.mkdir(\"Example\")"
   ]
  },
  {
   "cell_type": "code",
   "execution_count": 67,
   "metadata": {},
   "outputs": [],
   "source": [
    "# 以遞迴方式新增資料夾\n",
    "os.makedirs(\"Example/A/B/C\")"
   ]
  },
  {
   "cell_type": "code",
   "execution_count": 68,
   "metadata": {},
   "outputs": [],
   "source": [
    "#刪除特定資料夾\n",
    "os.rmdir(\"Example/A/B/C\")"
   ]
  },
  {
   "cell_type": "code",
   "execution_count": 69,
   "metadata": {},
   "outputs": [],
   "source": [
    "#以遞迴方式刪除資料夾\n",
    "os.removedirs(\"Example/A/B\")"
   ]
  },
  {
   "cell_type": "code",
   "execution_count": 70,
   "metadata": {},
   "outputs": [
    {
     "ename": "FileExistsError",
     "evalue": "[WinError 183] 當檔案已存在時，無法建立該檔案。: 'Example' -> 'test'",
     "output_type": "error",
     "traceback": [
      "\u001b[1;31m---------------------------------------------------------------------------\u001b[0m",
      "\u001b[1;31mFileExistsError\u001b[0m                           Traceback (most recent call last)",
      "\u001b[1;32m<ipython-input-70-ca8e04be03be>\u001b[0m in \u001b[0;36m<module>\u001b[1;34m()\u001b[0m\n\u001b[0;32m      1\u001b[0m \u001b[1;31m# 修改資料夾名稱\u001b[0m\u001b[1;33m\u001b[0m\u001b[1;33m\u001b[0m\u001b[0m\n\u001b[0;32m      2\u001b[0m \u001b[0mos\u001b[0m\u001b[1;33m.\u001b[0m\u001b[0mmkdir\u001b[0m\u001b[1;33m(\u001b[0m\u001b[1;34m\"Example\"\u001b[0m\u001b[1;33m)\u001b[0m\u001b[1;33m\u001b[0m\u001b[0m\n\u001b[1;32m----> 3\u001b[1;33m \u001b[0mos\u001b[0m\u001b[1;33m.\u001b[0m\u001b[0mrename\u001b[0m\u001b[1;33m(\u001b[0m\u001b[1;34m'Example'\u001b[0m\u001b[1;33m,\u001b[0m\u001b[1;34m'test'\u001b[0m\u001b[1;33m)\u001b[0m\u001b[1;33m\u001b[0m\u001b[0m\n\u001b[0m",
      "\u001b[1;31mFileExistsError\u001b[0m: [WinError 183] 當檔案已存在時，無法建立該檔案。: 'Example' -> 'test'"
     ]
    }
   ],
   "source": [
    "# 修改資料夾名稱\n",
    "os.mkdir(\"Example\")\n",
    "os.rename('Example','test')"
   ]
  },
  {
   "cell_type": "code",
   "execution_count": 71,
   "metadata": {},
   "outputs": [
    {
     "name": "stdout",
     "output_type": "stream",
     "text": [
      "False\n",
      "True\n"
     ]
    }
   ],
   "source": [
    "#檢驗給出的路徑是否是一個目錄\n",
    "print(os.path.isdir('data.txt'))\n",
    "print(os.path.isdir('data'))"
   ]
  },
  {
   "cell_type": "code",
   "execution_count": 72,
   "metadata": {},
   "outputs": [
    {
     "data": {
      "text/plain": [
       "7"
      ]
     },
     "execution_count": 72,
     "metadata": {},
     "output_type": "execute_result"
    }
   ],
   "source": [
    "#獲取檔案大小\n",
    "os.path.getsize('data.txt')"
   ]
  },
  {
   "cell_type": "code",
   "execution_count": 73,
   "metadata": {},
   "outputs": [
    {
     "data": {
      "text/plain": [
       "os.stat_result(st_mode=33206, st_ino=19703248369871554, st_dev=3873174526, st_nlink=1, st_uid=0, st_gid=0, st_size=7, st_atime=1564668092, st_mtime=1564668171, st_ctime=1564668092)"
      ]
     },
     "execution_count": 73,
     "metadata": {},
     "output_type": "execute_result"
    }
   ],
   "source": [
    "#獲取檔案屬性\n",
    "os.stat('data.txt')"
   ]
  },
  {
   "cell_type": "code",
   "execution_count": 74,
   "metadata": {},
   "outputs": [
    {
     "data": {
      "text/plain": [
       "'data.txt'"
      ]
     },
     "execution_count": 74,
     "metadata": {},
     "output_type": "execute_result"
    }
   ],
   "source": [
    "#獲取檔名\n",
    "os.path.basename('data.txt')"
   ]
  },
  {
   "cell_type": "code",
   "execution_count": 75,
   "metadata": {},
   "outputs": [
    {
     "data": {
      "text/plain": [
       "''"
      ]
     },
     "execution_count": 75,
     "metadata": {},
     "output_type": "execute_result"
    }
   ],
   "source": [
    "#獲取檔案路徑\n",
    "os.path.dirname('data.txt')"
   ]
  },
  {
   "cell_type": "code",
   "execution_count": 76,
   "metadata": {},
   "outputs": [
    {
     "data": {
      "text/plain": [
       "('data', '.txt')"
      ]
     },
     "execution_count": 76,
     "metadata": {},
     "output_type": "execute_result"
    }
   ],
   "source": [
    "#分離副檔名\n",
    "os.path.splitext('data.txt')\n"
   ]
  },
  {
   "cell_type": "code",
   "execution_count": 77,
   "metadata": {},
   "outputs": [
    {
     "name": "stdout",
     "output_type": "stream",
     "text": [
      "True\n",
      "False\n"
     ]
    }
   ],
   "source": [
    "#檢驗給出的路徑是否是一個檔案\n",
    "print(os.path.isfile('data.txt'))\n",
    "print(os.path.isfile('data'))"
   ]
  },
  {
   "cell_type": "markdown",
   "metadata": {},
   "source": [
    "### 檢視檔案權限"
   ]
  },
  {
   "cell_type": "markdown",
   "metadata": {},
   "source": [
    "* os.F_OK: 作為access()的mode參數，測試path是否存在。\n",
    "* os.R_OK: 包含在access()的mode參數中 ， 測試path是否可讀。\n",
    "* os.W_OK 包含在access()的mode參數中 ， 測試path是否可寫。\n",
    "* os.X_OK 包含在access()的mode參數中 ，測試path是否可執行。\n",
    "\n"
   ]
  },
  {
   "cell_type": "code",
   "execution_count": 78,
   "metadata": {},
   "outputs": [
    {
     "name": "stdout",
     "output_type": "stream",
     "text": [
      "F_OK - 返回值 True\n",
      "R_OK - 返回值 True\n",
      "W_OK - 返回值 False\n",
      "X_OK - 返回值 True\n"
     ]
    }
   ],
   "source": [
    "import os, sys\n",
    "\n",
    "ret = os.access(\"aaa.txt\", os.F_OK)\n",
    "print(\"F_OK - 返回值 %s\"% ret)\n",
    "\n",
    "ret = os.access(\"aaa.txt\", os.R_OK)\n",
    "print(\"R_OK - 返回值 %s\"% ret)\n",
    "\n",
    "ret = os.access(\"aaa.txt\", os.W_OK)\n",
    "print(\"W_OK - 返回值 %s\"% ret)\n",
    "\n",
    "ret = os.access(\"aaa.txt\", os.X_OK)\n",
    "print(\"X_OK - 返回值 %s\"% ret)"
   ]
  },
  {
   "cell_type": "markdown",
   "metadata": {},
   "source": [
    "### 檔案權限\n",
    "\n",
    "* stat.S_IXOTH: 其他用戶有執行權0o001\n",
    "* stat.S_IWOTH: 其他用戶有寫許可權0o002\n",
    "* stat.S_IROTH: 其他用戶有讀許可權0o004\n",
    "* stat.S_IRWXO: 其他使用者有全部許可權(許可權遮罩)0o007\n",
    "* stat.S_IXGRP: 組用戶有執行許可權0o010\n",
    "* stat.S_IWGRP: 組用戶有寫許可權0o020\n",
    "* stat.S_IRGRP: 組用戶有讀許可權0o040\n",
    "* stat.S_IRWXG: 組使用者有全部許可權(許可權遮罩)0o070\n",
    "* stat.S_IXUSR: 擁有者具有執行許可權0o100\n",
    "* stat.S_IWUSR: 擁有者具有寫許可權0o200\n",
    "* stat.S_IRUSR: 擁有者具有讀許可權0o400\n",
    "* stat.S_IRWXU: 擁有者有全部許可權(許可權遮罩)0o700\n",
    "* stat.S_ISVTX: 目錄裡檔目錄只有擁有者才可刪除更改0o1000\n",
    "* stat.S_ISGID: 執行此檔其進程有效組為檔所在組0o2000\n",
    "* stat.S_ISUID: 執行此檔其進程有效使用者為檔所有者0o4000\n",
    "* stat.S_IREAD: windows下設為唯讀\n",
    "* stat.S_IWRITE: windows下取消唯讀\n",
    "\n"
   ]
  },
  {
   "cell_type": "code",
   "execution_count": 79,
   "metadata": {},
   "outputs": [
    {
     "name": "stdout",
     "output_type": "stream",
     "text": [
      "修改成功!!\n"
     ]
    }
   ],
   "source": [
    "import os, sys, stat\n",
    "\n",
    "os.chmod(\"aaa.txt\", stat.S_IXGRP)\n",
    "\n",
    "# 設置檔可以被其他用戶寫入\n",
    "os.chmod(\"aaa.txt\", stat.S_IWOTH)\n",
    "\n",
    "print(\"修改成功!!\")\n",
    "\n"
   ]
  },
  {
   "cell_type": "markdown",
   "metadata": {},
   "source": [
    "## 09 Python檔案處理-檔案讀取與編寫、文件檔案編寫 、XML檔案編寫與讀取"
   ]
  },
  {
   "cell_type": "markdown",
   "metadata": {},
   "source": [
    "## 9.1 檔案處理"
   ]
  },
  {
   "cell_type": "code",
   "execution_count": 27,
   "metadata": {},
   "outputs": [
    {
     "name": "stdout",
     "output_type": "stream",
     "text": [
      "Artificial intelligence (AI), sometimes called machine intelligence, is intelligence demonstrated by machines, in contrast to the natural intelligence displayed by humans and other animals. \n",
      "In computer science AI research is defined as the study of \"intelligent agents\": any device that perceives its environment and takes actions that maximize its chance of successfully achieving its goals.[1] Colloquially, the term \"artificial intelligence\" is applied when a machine mimics \"cognitive\" functions that humans associate with other human minds, such as \"learning\" and \"problem solving\"\n"
     ]
    }
   ],
   "source": [
    "# 讀取檔案\n",
    "\n",
    "f = open(\"data/AI.txt\", \"r\")\n",
    "print(f.read())\n",
    "#print(f.read(5))\n",
    "f.close()"
   ]
  },
  {
   "cell_type": "code",
   "execution_count": 28,
   "metadata": {},
   "outputs": [
    {
     "name": "stdout",
     "output_type": "stream",
     "text": [
      "Artificial intelligence (AI), sometimes called machine intelligence, is intelligence demonstrated by machines, in contrast to the natural intelligence displayed by humans and other animals. \n",
      "\n"
     ]
    }
   ],
   "source": [
    "f = open(\"data/AI.txt\", \"r\")\n",
    "print(f.readline())\n",
    "f.close()"
   ]
  },
  {
   "cell_type": "code",
   "execution_count": 29,
   "metadata": {},
   "outputs": [
    {
     "name": "stdout",
     "output_type": "stream",
     "text": [
      "Artificial intelligence (AI), sometimes called machine intelligence, is intelligence demonstrated by machines, in contrast to the natural intelligence displayed by humans and other animals. \n",
      "\n",
      "In computer science AI research is defined as the study of \"intelligent agents\": any device that perceives its environment and takes actions that maximize its chance of successfully achieving its goals.[1] Colloquially, the term \"artificial intelligence\" is applied when a machine mimics \"cognitive\" functions that humans associate with other human minds, such as \"learning\" and \"problem solving\"\n"
     ]
    }
   ],
   "source": [
    "f = open(\"data/AI.txt\", \"r\")\n",
    "for x in f:\n",
    "    print(x)\n",
    "    \n",
    "f.close()"
   ]
  },
  {
   "cell_type": "code",
   "execution_count": 35,
   "metadata": {},
   "outputs": [
    {
     "name": "stdout",
     "output_type": "stream",
     "text": [
      "Artificial intelligence (AI), sometimes called machine intelligence, is intelligence demonstrated by machines, in contrast to the natural intelligence displayed by humans and other animals. \n",
      "\n",
      "In computer science AI research is defined as the study of \"intelligent agents\": any device that perceives its environment and takes actions that maximize its chance of successfully achieving its goals.[1] Colloquially, the term \"artificial intelligence\" is applied when a machine mimics \"cognitive\" functions that humans associate with other human minds, such as \"learning\" and \"problem solving\"\n"
     ]
    }
   ],
   "source": [
    "#會自動關閉檔案\n",
    "for x in open(\"data/AI.txt\", \"r\"):\n",
    "    print(x)"
   ]
  },
  {
   "cell_type": "code",
   "execution_count": 30,
   "metadata": {},
   "outputs": [
    {
     "name": "stdout",
     "output_type": "stream",
     "text": [
      "Artificial intelligence (AI), sometimes called machine intelligence, is intelligence demonstrated by machines, in contrast to the natural intelligence displayed by humans and other animals. \n",
      "In computer science AI research is defined as the study of \"intelligent agents\": any device that perceives its environment and takes actions that maximize its chance of successfully achieving its goals.[1] Colloquially, the term \"artificial intelligence\" is applied when a machine mimics \"cognitive\" functions that humans associate with other human minds, such as \"learning\" and \"problem solving\"\n"
     ]
    }
   ],
   "source": [
    "# 避免檔案讀寫時造成IO ERROR , 無法關閉檔案\n",
    "try:\n",
    "    f = open(\"data/AI.txt\", \"r\")\n",
    "    print(f.read())\n",
    "finally:\n",
    "    if f:\n",
    "        f.close()"
   ]
  },
  {
   "cell_type": "code",
   "execution_count": 31,
   "metadata": {},
   "outputs": [
    {
     "name": "stdout",
     "output_type": "stream",
     "text": [
      "Artificial intelligence (AI), sometimes called machine intelligence, is intelligence demonstrated by machines, in contrast to the natural intelligence displayed by humans and other animals. \n",
      "In computer science AI research is defined as the study of \"intelligent agents\": any device that perceives its environment and takes actions that maximize its chance of successfully achieving its goals.[1] Colloquially, the term \"artificial intelligence\" is applied when a machine mimics \"cognitive\" functions that humans associate with other human minds, such as \"learning\" and \"problem solving\"\n"
     ]
    }
   ],
   "source": [
    "with open(\"data/AI.txt\", \"r\") as f:\n",
    "    print(f.read())"
   ]
  },
  {
   "cell_type": "code",
   "execution_count": 32,
   "metadata": {},
   "outputs": [
    {
     "name": "stdout",
     "output_type": "stream",
     "text": [
      "5\n"
     ]
    }
   ],
   "source": [
    "# 寫入檔案\n",
    "\n",
    "#清空檔案內容，新寫入的東西可在讀出(檔案可不存在，會自行新增)\n",
    "with open(\"data/demoA.txt\", \"w\") as f:\n",
    "    print(f.write(\"Hello\"))"
   ]
  },
  {
   "cell_type": "code",
   "execution_count": 33,
   "metadata": {},
   "outputs": [
    {
     "name": "stdout",
     "output_type": "stream",
     "text": [
      "2\n"
     ]
    }
   ],
   "source": [
    "#新寫入內容加在原內容末端(檔案可不存在，會自行新增)\n",
    "with open(\"data/demoB.txt\", \"a+\") as f:\n",
    "    print(f.write(\"Hi\"))"
   ]
  },
  {
   "cell_type": "markdown",
   "metadata": {},
   "source": [
    "## 9.2 XML檔案編寫與讀取"
   ]
  },
  {
   "cell_type": "code",
   "execution_count": 82,
   "metadata": {},
   "outputs": [
    {
     "name": "stdout",
     "output_type": "stream",
     "text": [
      "*****Movie*****\n",
      "Title: Enemy Behind\n",
      "Type: War, Thriller\n",
      "Format: DVD\n",
      "Year: 2003\n",
      "Rating: PG\n",
      "Stars: 10\n",
      "Description: Talk about a US-Japan war\n",
      "*****Movie*****\n",
      "Title: Transformers\n",
      "Type: Anime, Science Fiction\n",
      "Format: DVD\n",
      "Year: 1989\n",
      "Rating: R\n",
      "Stars: 8\n",
      "Description: A schientific fiction\n",
      "*****Movie*****\n",
      "Title: Trigun\n",
      "Type: Anime, Action\n",
      "Format: DVD\n",
      "Rating: PG\n",
      "Stars: 10\n",
      "Description: Vash the Stampede!\n",
      "*****Movie*****\n",
      "Title: Ishtar\n",
      "Type: Comedy\n",
      "Format: VHS\n",
      "Rating: PG\n",
      "Stars: 2\n",
      "Description: Viewable boredom\n"
     ]
    }
   ],
   "source": [
    "import xml.sax\n",
    "\n",
    "class MovieHandler( xml.sax.ContentHandler ):\n",
    "   def __init__(self):\n",
    "      self.CurrentData = \"\"\n",
    "      self.type = \"\"\n",
    "      self.format = \"\"\n",
    "      self.year = \"\"\n",
    "      self.rating = \"\"\n",
    "      self.stars = \"\"\n",
    "      self.description = \"\"\n",
    "\n",
    "   \n",
    "   def startElement(self, tag, attributes):\n",
    "      self.CurrentData = tag\n",
    "      if tag == \"movie\":\n",
    "         print (\"*****Movie*****\")\n",
    "         title = attributes[\"title\"]\n",
    "         print (\"Title:\", title)\n",
    "\n",
    "  \n",
    "   def endElement(self, tag):\n",
    "      if self.CurrentData == \"type\":\n",
    "         print (\"Type:\", self.type)\n",
    "      elif self.CurrentData == \"format\":\n",
    "         print (\"Format:\", self.format)\n",
    "      elif self.CurrentData == \"year\":\n",
    "         print (\"Year:\", self.year)\n",
    "      elif self.CurrentData == \"rating\":\n",
    "         print (\"Rating:\", self.rating)\n",
    "      elif self.CurrentData == \"stars\":\n",
    "         print (\"Stars:\", self.stars)\n",
    "      elif self.CurrentData == \"description\":\n",
    "         print (\"Description:\", self.description)\n",
    "      self.CurrentData = \"\"\n",
    "\n",
    "  \n",
    "   def characters(self, content):\n",
    "      if self.CurrentData == \"type\":\n",
    "         self.type = content\n",
    "      elif self.CurrentData == \"format\":\n",
    "         self.format = content\n",
    "      elif self.CurrentData == \"year\":\n",
    "         self.year = content\n",
    "      elif self.CurrentData == \"rating\":\n",
    "         self.rating = content\n",
    "      elif self.CurrentData == \"stars\":\n",
    "         self.stars = content\n",
    "      elif self.CurrentData == \"description\":\n",
    "         self.description = content\n",
    "  \n",
    "if ( __name__ == \"__main__\"):\n",
    "   \n",
    "   \n",
    "   parser = xml.sax.make_parser()\n",
    " \n",
    "   parser.setFeature(xml.sax.handler.feature_namespaces, 0)\n",
    "\n",
    " \n",
    "   Handler = MovieHandler()\n",
    "   parser.setContentHandler( Handler )\n",
    "   \n",
    "   parser.parse(\"movies.xml\")"
   ]
  },
  {
   "cell_type": "code",
   "execution_count": null,
   "metadata": {},
   "outputs": [],
   "source": [
    "from xml.dom.minidom import parse\n",
    "import xml.dom.minidom\n",
    "\n",
    "DOMTree = xml.dom.minidom.parse(\"movies.xml\")\n",
    "collection = DOMTree.documentElement\n",
    "if collection.hasAttribute(\"shelf\"):\n",
    "   print (\"Root element : %s\" % collection.getAttribute(\"shelf\"))\n",
    "\n",
    "movies = collection.getElementsByTagName(\"movie\")\n",
    "\n",
    "for movie in movies:\n",
    "   print (\"*****Movie*****\")\n",
    "   if movie.hasAttribute(\"title\"):\n",
    "      print (\"Title: %s\" % movie.getAttribute(\"title\"))\n",
    "\n",
    "   type = movie.getElementsByTagName('type')[0]\n",
    "   print (\"Type: %s\" % type.childNodes[0].data)\n",
    "   format = movie.getElementsByTagName('format')[0]\n",
    "   print (\"Format: %s\" % format.childNodes[0].data)\n",
    "   rating = movie.getElementsByTagName('rating')[0]\n",
    "   print (\"Rating: %s\" % rating.childNodes[0].data)\n",
    "   description = movie.getElementsByTagName('description')[0]\n",
    "   print (\"Description: %s\" % description.childNodes[0].data)"
   ]
  },
  {
   "cell_type": "markdown",
   "metadata": {},
   "source": [
    "## 10 錯誤與例外處理(errors and exception)觀念簡介、練習"
   ]
  },
  {
   "cell_type": "markdown",
   "metadata": {},
   "source": [
    "### SyntaxError\n",
    "\n",
    "* if-else statement 、 for loop 、 函式宣告的 def 等等沒有加冒號\n",
    "* 在判斷式當中，將 == 寫成 =\n",
    "* 字串前後並未完整加上引號\n",
    "* 除此之外還有很多很多可能性"
   ]
  },
  {
   "cell_type": "code",
   "execution_count": 2,
   "metadata": {},
   "outputs": [
    {
     "ename": "SyntaxError",
     "evalue": "EOL while scanning string literal (<ipython-input-2-f9f2067517d2>, line 1)",
     "output_type": "error",
     "traceback": [
      "\u001b[1;36m  File \u001b[1;32m\"<ipython-input-2-f9f2067517d2>\"\u001b[1;36m, line \u001b[1;32m1\u001b[0m\n\u001b[1;33m    print(\"a)\u001b[0m\n\u001b[1;37m             ^\u001b[0m\n\u001b[1;31mSyntaxError\u001b[0m\u001b[1;31m:\u001b[0m EOL while scanning string literal\n"
     ]
    }
   ],
   "source": [
    "print(\"a)"
   ]
  },
  {
   "cell_type": "markdown",
   "metadata": {},
   "source": [
    "### NameError"
   ]
  },
  {
   "cell_type": "markdown",
   "metadata": {},
   "source": [
    "電腦無法找到我們所指定的變數時產生的錯誤，通常發生在打錯變數名稱，或是使用了並未宣告過的變數的時候。"
   ]
  },
  {
   "cell_type": "code",
   "execution_count": 83,
   "metadata": {},
   "outputs": [
    {
     "ename": "NameError",
     "evalue": "name 'abcd' is not defined",
     "output_type": "error",
     "traceback": [
      "\u001b[1;31m---------------------------------------------------------------------------\u001b[0m",
      "\u001b[1;31mNameError\u001b[0m                                 Traceback (most recent call last)",
      "\u001b[1;32m<ipython-input-83-ce1394b9d4d9>\u001b[0m in \u001b[0;36m<module>\u001b[1;34m()\u001b[0m\n\u001b[1;32m----> 1\u001b[1;33m \u001b[0mprint\u001b[0m\u001b[1;33m(\u001b[0m\u001b[0mabcd\u001b[0m\u001b[1;33m)\u001b[0m\u001b[1;33m\u001b[0m\u001b[0m\n\u001b[0m",
      "\u001b[1;31mNameError\u001b[0m: name 'abcd' is not defined"
     ]
    }
   ],
   "source": [
    "print(abcd)"
   ]
  },
  {
   "cell_type": "markdown",
   "metadata": {},
   "source": [
    "### TypeError"
   ]
  },
  {
   "cell_type": "markdown",
   "metadata": {},
   "source": [
    "誤用了變數的資料型態的時候"
   ]
  },
  {
   "cell_type": "code",
   "execution_count": 84,
   "metadata": {},
   "outputs": [
    {
     "ename": "TypeError",
     "evalue": "unsupported operand type(s) for +: 'int' and 'str'",
     "output_type": "error",
     "traceback": [
      "\u001b[1;31m---------------------------------------------------------------------------\u001b[0m",
      "\u001b[1;31mTypeError\u001b[0m                                 Traceback (most recent call last)",
      "\u001b[1;32m<ipython-input-84-f538e40232d4>\u001b[0m in \u001b[0;36m<module>\u001b[1;34m()\u001b[0m\n\u001b[1;32m----> 1\u001b[1;33m \u001b[0mprint\u001b[0m\u001b[1;33m(\u001b[0m\u001b[1;36m10\u001b[0m\u001b[1;33m+\u001b[0m\u001b[1;34m\"40\"\u001b[0m\u001b[1;33m)\u001b[0m\u001b[1;33m\u001b[0m\u001b[0m\n\u001b[0m",
      "\u001b[1;31mTypeError\u001b[0m: unsupported operand type(s) for +: 'int' and 'str'"
     ]
    }
   ],
   "source": [
    "print(10+\"40\")"
   ]
  },
  {
   "cell_type": "code",
   "execution_count": 3,
   "metadata": {},
   "outputs": [
    {
     "ename": "TypeError",
     "evalue": "'int' object is not iterable",
     "output_type": "error",
     "traceback": [
      "\u001b[1;31m---------------------------------------------------------------------------\u001b[0m",
      "\u001b[1;31mTypeError\u001b[0m                                 Traceback (most recent call last)",
      "\u001b[1;32m<ipython-input-3-b1b8852ddb14>\u001b[0m in \u001b[0;36m<module>\u001b[1;34m()\u001b[0m\n\u001b[0;32m      1\u001b[0m \u001b[0ma\u001b[0m \u001b[1;33m=\u001b[0m \u001b[1;36m10\u001b[0m\u001b[1;33m\u001b[0m\u001b[0m\n\u001b[0;32m      2\u001b[0m \u001b[1;33m\u001b[0m\u001b[0m\n\u001b[1;32m----> 3\u001b[1;33m \u001b[1;32mfor\u001b[0m \u001b[0mi\u001b[0m \u001b[1;32min\u001b[0m \u001b[0ma\u001b[0m\u001b[1;33m:\u001b[0m\u001b[1;33m\u001b[0m\u001b[0m\n\u001b[0m\u001b[0;32m      4\u001b[0m     \u001b[0mprint\u001b[0m\u001b[1;33m(\u001b[0m\u001b[0mi\u001b[0m\u001b[1;33m)\u001b[0m\u001b[1;33m\u001b[0m\u001b[0m\n",
      "\u001b[1;31mTypeError\u001b[0m: 'int' object is not iterable"
     ]
    }
   ],
   "source": [
    "a = 10\n",
    "\n",
    "for i in a:\n",
    "    print(i)"
   ]
  },
  {
   "cell_type": "markdown",
   "metadata": {},
   "source": [
    "### ZeroDivisionError"
   ]
  },
  {
   "cell_type": "markdown",
   "metadata": {},
   "source": [
    "進行運算時，拿 0 當成除數時所產生的錯誤"
   ]
  },
  {
   "cell_type": "code",
   "execution_count": 5,
   "metadata": {},
   "outputs": [
    {
     "ename": "ZeroDivisionError",
     "evalue": "division by zero",
     "output_type": "error",
     "traceback": [
      "\u001b[1;31m---------------------------------------------------------------------------\u001b[0m",
      "\u001b[1;31mZeroDivisionError\u001b[0m                         Traceback (most recent call last)",
      "\u001b[1;32m<ipython-input-5-5be59c97e00b>\u001b[0m in \u001b[0;36m<module>\u001b[1;34m()\u001b[0m\n\u001b[1;32m----> 1\u001b[1;33m \u001b[0mprint\u001b[0m\u001b[1;33m(\u001b[0m\u001b[1;36m100\u001b[0m\u001b[1;33m/\u001b[0m\u001b[1;36m0\u001b[0m\u001b[1;33m)\u001b[0m\u001b[1;33m\u001b[0m\u001b[0m\n\u001b[0m",
      "\u001b[1;31mZeroDivisionError\u001b[0m: division by zero"
     ]
    }
   ],
   "source": [
    "print(100/0)"
   ]
  },
  {
   "cell_type": "markdown",
   "metadata": {},
   "source": [
    "### IndexError"
   ]
  },
  {
   "cell_type": "markdown",
   "metadata": {},
   "source": [
    "使用 list 或是 string 時可能會遇到的 IndexError 。叫做 IndexError 的原因在於，這個錯誤來自於使用了錯誤的 index ，也就是可能使用到了可用範圍之外的 index"
   ]
  },
  {
   "cell_type": "code",
   "execution_count": 6,
   "metadata": {},
   "outputs": [
    {
     "ename": "IndexError",
     "evalue": "list index out of range",
     "output_type": "error",
     "traceback": [
      "\u001b[1;31m---------------------------------------------------------------------------\u001b[0m",
      "\u001b[1;31mIndexError\u001b[0m                                Traceback (most recent call last)",
      "\u001b[1;32m<ipython-input-6-8b397967d515>\u001b[0m in \u001b[0;36m<module>\u001b[1;34m()\u001b[0m\n\u001b[0;32m      1\u001b[0m \u001b[0mlistA\u001b[0m \u001b[1;33m=\u001b[0m \u001b[1;33m[\u001b[0m\u001b[1;36m10\u001b[0m\u001b[1;33m,\u001b[0m\u001b[1;36m50\u001b[0m\u001b[1;33m,\u001b[0m\u001b[1;36m20\u001b[0m\u001b[1;33m,\u001b[0m\u001b[1;36m30\u001b[0m\u001b[1;33m]\u001b[0m\u001b[1;33m\u001b[0m\u001b[0m\n\u001b[1;32m----> 2\u001b[1;33m \u001b[0mprint\u001b[0m\u001b[1;33m(\u001b[0m\u001b[0mlistA\u001b[0m\u001b[1;33m[\u001b[0m\u001b[1;36m4\u001b[0m\u001b[1;33m]\u001b[0m\u001b[1;33m)\u001b[0m\u001b[1;33m\u001b[0m\u001b[0m\n\u001b[0m",
      "\u001b[1;31mIndexError\u001b[0m: list index out of range"
     ]
    }
   ],
   "source": [
    "listA = [10,50,20,30]\n",
    "print(listA[4])"
   ]
  },
  {
   "cell_type": "markdown",
   "metadata": {},
   "source": [
    "### KeyError"
   ]
  },
  {
   "cell_type": "markdown",
   "metadata": {},
   "source": [
    "通常發生在字典的使用"
   ]
  },
  {
   "cell_type": "code",
   "execution_count": 7,
   "metadata": {},
   "outputs": [
    {
     "ename": "KeyError",
     "evalue": "'d'",
     "output_type": "error",
     "traceback": [
      "\u001b[1;31m---------------------------------------------------------------------------\u001b[0m",
      "\u001b[1;31mKeyError\u001b[0m                                  Traceback (most recent call last)",
      "\u001b[1;32m<ipython-input-7-234f2bd651eb>\u001b[0m in \u001b[0;36m<module>\u001b[1;34m()\u001b[0m\n\u001b[0;32m      4\u001b[0m     \u001b[1;34m'c'\u001b[0m\u001b[1;33m:\u001b[0m \u001b[1;34m'3'\u001b[0m\u001b[1;33m,\u001b[0m\u001b[1;33m\u001b[0m\u001b[0m\n\u001b[0;32m      5\u001b[0m }\n\u001b[1;32m----> 6\u001b[1;33m \u001b[0mprint\u001b[0m\u001b[1;33m(\u001b[0m\u001b[0mt\u001b[0m\u001b[1;33m[\u001b[0m\u001b[1;34m'd'\u001b[0m\u001b[1;33m]\u001b[0m\u001b[1;33m)\u001b[0m\u001b[1;33m\u001b[0m\u001b[0m\n\u001b[0m",
      "\u001b[1;31mKeyError\u001b[0m: 'd'"
     ]
    }
   ],
   "source": [
    "t = {\n",
    "    'a': '1',\n",
    "    'b': '2',\n",
    "    'c': '3',\n",
    "}\n",
    "print(t['d'])"
   ]
  },
  {
   "cell_type": "markdown",
   "metadata": {},
   "source": [
    "### Exception"
   ]
  },
  {
   "cell_type": "markdown",
   "metadata": {},
   "source": [
    "Python Exception Type : https://docs.python.org/3.6/library/exceptions.html"
   ]
  },
  {
   "cell_type": "markdown",
   "metadata": {},
   "source": [
    "try:\n",
    "    # 你要執行的程式\n",
    "except <錯誤類型>:\n",
    "    # 發生錯誤時要執行的程式"
   ]
  },
  {
   "cell_type": "code",
   "execution_count": 12,
   "metadata": {},
   "outputs": [
    {
     "name": "stdout",
     "output_type": "stream",
     "text": [
      "請輸入數字: j\n",
      "輸入的不是數字，請再輸入...\n",
      "請輸入數字: jhg\n",
      "輸入的不是數字，請再輸入...\n",
      "請輸入數字: 9i\n",
      "輸入的不是數字，請再輸入...\n",
      "請輸入數字: 9\n",
      "你剛才輸入的是: 9\n"
     ]
    }
   ],
   "source": [
    "#Example 1\n",
    "while True:\n",
    "    try:        \n",
    "        x = int(input(\"請輸入數字: \"))\n",
    "        print(\"你剛才輸入的是:\", x)\n",
    "        break   \n",
    "    \n",
    "    # 數值錯誤\n",
    "    except ValueError:\n",
    "        print(\"輸入的不是數字，請再輸入...\")\n"
   ]
  },
  {
   "cell_type": "code",
   "execution_count": 15,
   "metadata": {},
   "outputs": [
    {
     "name": "stdout",
     "output_type": "stream",
     "text": [
      "10不能除以零\n"
     ]
    }
   ],
   "source": [
    "# Example 2\n",
    "\n",
    "x = 10\n",
    "\n",
    "try:\n",
    "    print(\"{0}除以零！\".format(x/0))\n",
    "    \n",
    "# 數值除以零的錯誤\n",
    "except ZeroDivisionError:\n",
    "    print(\"{0}不能除以零\".format(x))"
   ]
  },
  {
   "cell_type": "code",
   "execution_count": 19,
   "metadata": {},
   "outputs": [
    {
     "name": "stdout",
     "output_type": "stream",
     "text": [
      "變數未宣告的錯誤！\n"
     ]
    }
   ],
   "source": [
    "# Example 3\n",
    "\n",
    "x = 10\n",
    " \n",
    "try:\n",
    "    \n",
    "    print(\"兩數相乘: {0}\", x * number)\n",
    "\n",
    "    # 變數未宣告的錯誤\n",
    "except NameError:\n",
    "    print(\"變數未宣告的錯誤！\")"
   ]
  },
  {
   "cell_type": "code",
   "execution_count": 26,
   "metadata": {},
   "outputs": [
    {
     "name": "stdout",
     "output_type": "stream",
     "text": [
      "6\n",
      "y\n",
      "Wrong input\n"
     ]
    }
   ],
   "source": [
    "try:\n",
    "    a = int(input())\n",
    "    b = int(input())\n",
    "    print(a/b)\n",
    "except ZeroDivisionError:\n",
    "    print(\"Cannot divide by 0!\")\n",
    "except:\n",
    "    print(\"Wrong input\")"
   ]
  },
  {
   "cell_type": "markdown",
   "metadata": {},
   "source": [
    "## 11 物件與類別(objects and classes)觀念介紹、練習"
   ]
  },
  {
   "cell_type": "markdown",
   "metadata": {},
   "source": [
    "* Class 類：一個類指相同事物相同特徵提取，把相同的屬性方法提煉出來定義在類中\n",
    "* Object 物件：一個物件是類的例項，物件是具體的，類是抽象\n",
    "* 封裝:對外部世界隱藏物件的工作細節\n",
    "* 繼承：一個子類繼承基類的欄位和方法\n",
    "* 多型：對不同類的物件使用同樣的操作"
   ]
  },
  {
   "cell_type": "markdown",
   "metadata": {},
   "source": [
    "## 11.1 類別(Class)"
   ]
  },
  {
   "cell_type": "markdown",
   "metadata": {},
   "source": [
    "### 建立類別"
   ]
  },
  {
   "cell_type": "code",
   "execution_count": null,
   "metadata": {},
   "outputs": [],
   "source": [
    "class MyClass:\n",
    "    x = 5"
   ]
  },
  {
   "cell_type": "markdown",
   "metadata": {},
   "source": [
    "### 建立物件"
   ]
  },
  {
   "cell_type": "code",
   "execution_count": null,
   "metadata": {},
   "outputs": [],
   "source": [
    "A = MyClass()\n",
    "\n",
    "print(A.x)"
   ]
  },
  {
   "cell_type": "code",
   "execution_count": null,
   "metadata": {},
   "outputs": [],
   "source": [
    "class Person:\n",
    "    def __init__(self, name, age,weight,height):  ##物件建立之後所要建立的初始化動作\n",
    "        self.name = name\n",
    "        self.age = age\n",
    "        self.weight = weight\n",
    "        self.height = height    \n",
    "\n",
    "p1 = Person(\"John\", 36,70,170)\n",
    "\n",
    "print(p1.name)\n",
    "print(p1.age)\n",
    "print(p1.weight)\n",
    "print(p1.height)"
   ]
  },
  {
   "cell_type": "code",
   "execution_count": null,
   "metadata": {},
   "outputs": [],
   "source": [
    "class Person:\n",
    "    def __init__(self, name, age,weight,height):  ##物件建立之後所要建立的初始化動作\n",
    "        self.name = name\n",
    "        self.age = age\n",
    "        self.weight = weight\n",
    "        self.height = height\n",
    "    def BMI(self):\n",
    "        return self.weight / ((self.height/100)**2)\n",
    "\n",
    "p1 = Person(\"John\", 36,70,170)\n",
    "\n",
    "print(p1.name)\n",
    "print(p1.age)\n",
    "print(p1.weight)\n",
    "print(p1.height)\n",
    "print(p1.BMI())"
   ]
  },
  {
   "cell_type": "markdown",
   "metadata": {},
   "source": [
    "### 物件比較\n",
    "\n",
    "* __lt__ 小於(<)\n",
    "* __le__ 小於等於(<=)\n",
    "* __eq__ 等於(==)\n",
    "* __ne__ 不等於(!=)\n",
    "* __gt__ 大於(>)\n",
    "* __ge__ 大於等於(>=)"
   ]
  },
  {
   "cell_type": "code",
   "execution_count": null,
   "metadata": {},
   "outputs": [],
   "source": [
    "class Person:\n",
    "    def __init__(self, name, age,weight,height):  ##物件建立之後所要建立的初始化動作\n",
    "        self.name = name\n",
    "        self.age = age\n",
    "        self.weight = weight\n",
    "        self.height = height\n",
    "        \n",
    "    def BMI(self):\n",
    "        return self.weight / ((self.height/100)**2)\n",
    "    \n",
    "    def __gt__(self,other):\n",
    "        return float(self.BMI()) > float(other.BMI())\n",
    "\n",
    "p1 = Person(\"John\", 36,70,170)\n",
    "p2 = Person(\"Nick\", 32,80,160)\n",
    "print(p1.BMI())\n",
    "print(p2.BMI())\n",
    "print(p1<p2)\n",
    "print(p1>p2)"
   ]
  },
  {
   "cell_type": "markdown",
   "metadata": {},
   "source": [
    "### 物件運算子"
   ]
  },
  {
   "cell_type": "markdown",
   "metadata": {},
   "source": [
    "* \\_\\_add\\_\\_   => +\n",
    "* \\_\\_iadd\\_\\_  => +=\n",
    "* \\_\\_sub\\_\\_ =>  -\n",
    "* \\_\\_isub\\_\\_ => -=\n",
    "* \\_\\_mul\\_\\_ =>  *\n",
    "* \\_\\_imul\\_\\_ =>  *=\n",
    "* \\_\\_truediv\\_\\_ =>  /\n",
    "* \\_\\_itruediv\\_\\_  => /=\n",
    "* \\_\\_floordiv\\_\\_ => //\n",
    "* \\_\\_ifloordiv\\_\\_ => //=\n",
    "* \\_\\_mod\\_\\_ => %\n",
    "* \\_\\_imod\\_\\_ => %=\n",
    "* \\_\\_pow\\_\\_ => **\n",
    "* \\_\\_ipow\\_\\_ =>  **="
   ]
  },
  {
   "cell_type": "code",
   "execution_count": 12,
   "metadata": {},
   "outputs": [
    {
     "name": "stdout",
     "output_type": "stream",
     "text": [
      "24.221453287197235\n",
      "31.249999999999993\n",
      "True\n",
      "False\n",
      "330\n",
      "170 70\n",
      "330 150\n"
     ]
    }
   ],
   "source": [
    "class Person:\n",
    "    def __init__(self, name, age,weight,height):  ##物件建立之後所要建立的初始化動作\n",
    "        self.name = name\n",
    "        self.age = age\n",
    "        self.weight = weight\n",
    "        self.height = height\n",
    "        \n",
    "    def BMI(self):\n",
    "        return self.weight / ((self.height/100)**2)\n",
    "    \n",
    "    def __gt__(self,other):\n",
    "        return float(self.BMI()) > float(other.BMI())\n",
    "    \n",
    "    def __add__(self,other):\n",
    "        return self.height + other.height\n",
    "    \n",
    "    def __iadd__(self,other):\n",
    "        self.height += other.height\n",
    "        self.weight += other.weight\n",
    "        return self\n",
    "\n",
    "p1 = Person(\"John\", 36,70,170)\n",
    "p2 = Person(\"Nick\", 32,80,160)\n",
    "print(p1.BMI())\n",
    "print(p2.BMI())\n",
    "print(p1<p2)\n",
    "print(p1>p2)\n",
    "print(p1+p2)\n",
    "print(p1.height,p1.weight)\n",
    "p1+=p2\n",
    "print(p1.height,p1.weight)"
   ]
  },
  {
   "cell_type": "code",
   "execution_count": null,
   "metadata": {},
   "outputs": [],
   "source": []
  },
  {
   "cell_type": "markdown",
   "metadata": {},
   "source": [
    "## 12 Python執行緒--執行緒概念、使用多執行緒模組"
   ]
  },
  {
   "cell_type": "markdown",
   "metadata": {},
   "source": [
    "### 使用 _thread Module建立執行緒"
   ]
  },
  {
   "cell_type": "code",
   "execution_count": 2,
   "metadata": {},
   "outputs": [],
   "source": [
    "import _thread\n",
    "import time"
   ]
  },
  {
   "cell_type": "code",
   "execution_count": 3,
   "metadata": {},
   "outputs": [
    {
     "name": "stdout",
     "output_type": "stream",
     "text": [
      "Thread-1: Fri Aug  2 05:30:18 2019\n",
      "Thread-2: Fri Aug  2 05:30:20 2019\n",
      "Thread-1: Fri Aug  2 05:30:20 2019\n",
      "Thread-1: Fri Aug  2 05:30:22 2019\n",
      "Thread-2: Fri Aug  2 05:30:24 2019\n",
      "Thread-1: Fri Aug  2 05:30:24 2019\n",
      "Thread-1: Fri Aug  2 05:30:26 2019\n",
      "Thread-2: Fri Aug  2 05:30:28 2019\n"
     ]
    },
    {
     "ename": "KeyboardInterrupt",
     "evalue": "",
     "output_type": "error",
     "traceback": [
      "\u001b[1;31m---------------------------------------------------------------------------\u001b[0m",
      "\u001b[1;31mKeyboardInterrupt\u001b[0m                         Traceback (most recent call last)",
      "\u001b[1;32m<ipython-input-3-56bf733dab15>\u001b[0m in \u001b[0;36m<module>\u001b[1;34m()\u001b[0m\n\u001b[0;32m     13\u001b[0m \u001b[1;33m\u001b[0m\u001b[0m\n\u001b[0;32m     14\u001b[0m \u001b[1;32mwhile\u001b[0m \u001b[1;36m1\u001b[0m\u001b[1;33m:\u001b[0m\u001b[1;33m\u001b[0m\u001b[0m\n\u001b[1;32m---> 15\u001b[1;33m    \u001b[1;32mpass\u001b[0m\u001b[1;33m\u001b[0m\u001b[0m\n\u001b[0m",
      "\u001b[1;31mKeyboardInterrupt\u001b[0m: "
     ]
    }
   ],
   "source": [
    "def print_time( threadName, delay):\n",
    "   count = 0\n",
    "   while count < 5:\n",
    "      time.sleep(delay)\n",
    "      count += 1\n",
    "      print (\"%s: %s\" % ( threadName, time.ctime(time.time()) ))\n",
    "\n",
    "try:\n",
    "   _thread.start_new_thread( print_time, (\"Thread-1\", 2, ) )\n",
    "   _thread.start_new_thread( print_time, (\"Thread-2\", 4, ) )\n",
    "except:\n",
    "   print (\"Error: can not start thread.\")\n",
    "\n",
    "while 1:\n",
    "   pass\n"
   ]
  },
  {
   "cell_type": "markdown",
   "metadata": {},
   "source": [
    "### 使用 threading Module建立執行緒"
   ]
  },
  {
   "cell_type": "code",
   "execution_count": 4,
   "metadata": {},
   "outputs": [
    {
     "name": "stdout",
     "output_type": "stream",
     "text": [
      "This is an added Thread, number is <Thread(Thread-6, started 6884)>\n",
      "6\n",
      "\n",
      "[<Thread(Thread-4, started daemon 10512)>, <ParentPollerWindows(Thread-3, started daemon 9320)>, <Heartbeat(Thread-5, started daemon 1032)>, <_MainThread(MainThread, started 9944)>, <HistorySavingThread(IPythonHistorySavingThread, started 13608)>]\n",
      "<_MainThread(MainThread, started 9944)>\n"
     ]
    }
   ],
   "source": [
    "import threading\n",
    "\n",
    "def thread_job():\n",
    "\n",
    "\n",
    "    # 把目前的 thread 顯示出來看看\n",
    "    print(\"This is an added Thread, number is {}\\n\".format(threading.current_thread()))\n",
    "\n",
    "def main():\n",
    "    # 添加一個 thread \n",
    "    added_thread = threading.Thread(target=thread_job)\n",
    "    # 執行 thread\n",
    "    added_thread.start() # This is an added Thread, number is <Thread(Thread-1, started 123145466363904)>\n",
    "    # 看目前有幾個 thread\n",
    "    print(threading.active_count()) # 2\n",
    "    # 把所有的 thread 顯示出來看看\n",
    "    print(threading.enumerate()) # [<_MainThread(MainThread, started 140736627270592)>, <Thread(Thread-1, started 123145466363904)>]\n",
    "    # 把目前的 thread 顯示出來看看\n",
    "    print(threading.current_thread()) #<_MainThread(MainThread, started 140736627270592)>\n",
    "\n",
    "if __name__ == '__main__':\n",
    "    main()\n"
   ]
  },
  {
   "cell_type": "code",
   "execution_count": 6,
   "metadata": {},
   "outputs": [
    {
     "name": "stdout",
     "output_type": "stream",
     "text": [
      "T1 start\n",
      "all done\n",
      "\n",
      "T1 finish\n"
     ]
    }
   ],
   "source": [
    "# without join\n",
    "import threading\n",
    "import time\n",
    "\n",
    "def thread_job():\n",
    "    print('T1 start\\n')\n",
    "    for i in range(10):\n",
    "        time.sleep(0.1)\n",
    "    print('T1 finish')\n",
    "\n",
    "def main():\n",
    "    thread1 = threading.Thread(target=thread_job, name='T1')\n",
    "    thread1.start()\n",
    "    print('all done')\n",
    "\n",
    "if __name__=='__main__':\n",
    "    main()"
   ]
  },
  {
   "cell_type": "code",
   "execution_count": 9,
   "metadata": {},
   "outputs": [
    {
     "name": "stdout",
     "output_type": "stream",
     "text": [
      "T1 start\n",
      "all done\n",
      "\n",
      "T1 finish\n"
     ]
    }
   ],
   "source": [
    "# use join\n",
    "import threading\n",
    "import time\n",
    "\n",
    "def thread_job():\n",
    "    print('T1 start\\n')\n",
    "    for i in range(10):\n",
    "        time.sleep(0.1)\n",
    "    print('T1 finish')\n",
    "\n",
    "def main():\n",
    "    thread1 = threading.Thread(target=thread_job, name='T1')\n",
    "    thread1.start()\n",
    "    print('all done')\n",
    "\n",
    "if __name__=='__main__':\n",
    "    main()\n"
   ]
  },
  {
   "cell_type": "code",
   "execution_count": null,
   "metadata": {},
   "outputs": [],
   "source": []
  },
  {
   "cell_type": "code",
   "execution_count": null,
   "metadata": {},
   "outputs": [],
   "source": []
  },
  {
   "cell_type": "code",
   "execution_count": null,
   "metadata": {},
   "outputs": [],
   "source": []
  },
  {
   "cell_type": "code",
   "execution_count": null,
   "metadata": {},
   "outputs": [],
   "source": []
  },
  {
   "cell_type": "code",
   "execution_count": null,
   "metadata": {},
   "outputs": [],
   "source": []
  },
  {
   "cell_type": "code",
   "execution_count": null,
   "metadata": {},
   "outputs": [],
   "source": []
  },
  {
   "cell_type": "code",
   "execution_count": null,
   "metadata": {},
   "outputs": [],
   "source": []
  },
  {
   "cell_type": "code",
   "execution_count": null,
   "metadata": {},
   "outputs": [],
   "source": []
  },
  {
   "cell_type": "code",
   "execution_count": null,
   "metadata": {},
   "outputs": [],
   "source": []
  }
 ],
 "metadata": {
  "kernelspec": {
   "display_name": "Python 3",
   "language": "python",
   "name": "python3"
  },
  "language_info": {
   "codemirror_mode": {
    "name": "ipython",
    "version": 3
   },
   "file_extension": ".py",
   "mimetype": "text/x-python",
   "name": "python",
   "nbconvert_exporter": "python",
   "pygments_lexer": "ipython3",
   "version": "3.5.4"
  }
 },
 "nbformat": 4,
 "nbformat_minor": 2
}
